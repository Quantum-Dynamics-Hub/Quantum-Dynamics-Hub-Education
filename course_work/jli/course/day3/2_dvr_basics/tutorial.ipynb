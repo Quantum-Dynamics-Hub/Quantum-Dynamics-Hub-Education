{
 "cells": [
  {
   "cell_type": "markdown",
   "metadata": {},
   "source": [
    "# Basics of the DVR calculations with Libra"
   ]
  },
  {
   "cell_type": "markdown",
   "metadata": {},
   "source": [
    "## Table of Content <a name=\"TOC\"></a>\n",
    "\n",
    "1. [General setups](#setups)\n",
    "2. [Mapping points on multidimensional grids ](#mapping)\n",
    "3. [Functions of the Wfcgrid2 class](#wfcgrid2)\n",
    "4. [Showcase: computing energies of the HO eigenstates](#ho_showcase)\n",
    "5. [Dynamics: computed with SOFT method](#soft_dynamics)"
   ]
  },
  {
   "cell_type": "markdown",
   "metadata": {},
   "source": [
    "### A. Learning objectives\n",
    "\n",
    "- to map sequential numbers of the grid points to the multi-dimensional index and vice versa\n",
    "- to define the Wfcgrid2 class objects for DVR calculations\n",
    "- to initialize wavefunctions of the grids\n",
    "- to compute various properties of the wavefunctions defined on the grid\n",
    "- to set up and conduct the quantum dynamics of the DVR of wavefunctions\n",
    "\n",
    "### B. Use cases\n",
    "\n",
    "- [Compute energies of the DVR wavefunctions](#energy-use-case)\n",
    "- [Numerically exact solution of the TD-SE](#tdse-solution)\n",
    "\n",
    "### C. Functions\n",
    "\n",
    "- `liblibra::libdyn::libwfcgrid`  \n",
    "  - [`compute_mapping`](#compute_mapping-1)\n",
    "  - [`compute_imapping`](#compute_imapping-1)\n",
    "\n",
    "### D. Classes and class members\n",
    "\n",
    "- `liblibra::libdyn::libwfcgrid2`\n",
    "  - [`Wfcgrid2`](#Wfcgrid2-1) | [also here](#Wfcgrid2-2)  \n",
    "    - [`nstates`](#nstates-1)\n",
    "    - [`ndof`](#ndof-1)  \n",
    "    \n",
    "    - [`Npts`](#Npts-1)  \n",
    "    - [`npts`](#npts-1)  \n",
    "    - [`rmin`](#rmin-1)  \n",
    "    - [`rmax`](#rmax-1)  \n",
    "    - [`dr`](#dr-1)  \n",
    "    - [`kmin`](#kmin-1)  \n",
    "    - [`dk`](#dk-1)  \n",
    "    \n",
    "    - [`gmap`](#gmap-1) | [also here](#gmap-2)\n",
    "    - [`imap`](#imap-1) | [also here](#imap-2)  \n",
    "    \n",
    "    - [`PSI_dia`](#PSI_dia-1)  \n",
    "    - [`reciPSI_dia`](#reciPSI_dia-1)      \n",
    "    - [`PSI_adi`](#PSI_adi-1)  \n",
    "    - [`reciPSI_adi`](#reciPSI_adi-1)  \n",
    "    \n",
    "    - [`Hdia`](#Hdia-1)  \n",
    "    - [`U`](#U-1)      \n",
    "        \n",
    "    - [`add_wfc_Gau`](#add_wfc_Gau-1)\n",
    "    - [`add_wfc_HO`](#add_wfc_HO-1) | [also here](#add_wfc_HO-2)\n",
    "    - [`add_wfc_ARB`](#add_wfc_ARB-1)\n",
    "    \n",
    "    - [`norm`](#norm-1) | [also here](#norm-2)\n",
    "    - [`e_kin`](#e_kin-1) | [also here](#e_kin-2)\n",
    "    - [`e_pot`](#e_pot-1) | [also here](#e_pot-2)\n",
    "    - [`e_tot`](#e_tot-1) | [also here](#e_tot-2)\n",
    "    - [`get_pow_q`](#get_pow_q-1) \n",
    "    - [`get_pow_p`](#get_pow_p-1) | [also here](#e_kin-2)\n",
    "    - [`get_den_mat`](#get_den_mat-1)\n",
    "    - [`get_pops`](#get_pops-1) | [also here](#get_pops-2)\n",
    "    \n",
    "    - [`update_propagator_H`](#update_propagator_H-1) | [also here](#update_propagator_H-2)\n",
    "    - [`update_propagator_K`](#update_propagator_K-1)\n",
    "    - [`SOFT_propagate`](#SOFT_propagate-1)\n",
    "    \n",
    "    - [`update_reciprocal`](#update_reciprocal-1) | [also here](#update_reciprocal-2)    \n",
    "    \n",
    "    - [`normalize`](#normalize-1) | [also here](#normalize-2)\n",
    "    \n",
    "    - [`update_Hamiltonian`](#update_Hamiltonian-1) | [also here](#update_Hamiltonian-2)\n",
    "    - [`update_adiabatic`](#update_adiabatic-1)\n",
    "    "
   ]
  },
  {
   "cell_type": "markdown",
   "metadata": {},
   "source": [
    "## 1. General setups \n",
    "<a name=\"setups\"></a>[Back to TOC](#TOC)\n",
    "\n",
    "First, import all the necessary libraries:\n",
    "* liblibra_core - for general data types from Libra\n",
    "\n",
    "The output of the cell below will throw a bunch of warnings, but this is not a problem nothing really serios. So just disregard them."
   ]
  },
  {
   "cell_type": "code",
   "execution_count": 1,
   "metadata": {},
   "outputs": [
    {
     "name": "stderr",
     "output_type": "stream",
     "text": [
      "/projects/academic/cyberwksp21/Software/Conda/Miniconda3/envs/libra/lib/python3.6/importlib/_bootstrap.py:219: RuntimeWarning: to-Python converter for std::vector<std::vector<int, std::allocator<int> >, std::allocator<std::vector<int, std::allocator<int> > > > already registered; second conversion method ignored.\n",
      "  return f(*args, **kwds)\n",
      "/projects/academic/cyberwksp21/Software/Conda/Miniconda3/envs/libra/lib/python3.6/importlib/_bootstrap.py:219: RuntimeWarning: to-Python converter for boost::python::detail::container_element<std::vector<std::vector<int, std::allocator<int> >, std::allocator<std::vector<int, std::allocator<int> > > >, unsigned long, boost::python::detail::final_vector_derived_policies<std::vector<std::vector<int, std::allocator<int> >, std::allocator<std::vector<int, std::allocator<int> > > >, false> > already registered; second conversion method ignored.\n",
      "  return f(*args, **kwds)\n",
      "/projects/academic/cyberwksp21/Software/Conda/Miniconda3/envs/libra/lib/python3.6/importlib/_bootstrap.py:219: RuntimeWarning: to-Python converter for std::vector<std::vector<float, std::allocator<float> >, std::allocator<std::vector<float, std::allocator<float> > > > already registered; second conversion method ignored.\n",
      "  return f(*args, **kwds)\n",
      "/projects/academic/cyberwksp21/Software/Conda/Miniconda3/envs/libra/lib/python3.6/importlib/_bootstrap.py:219: RuntimeWarning: to-Python converter for boost::python::detail::container_element<std::vector<std::vector<float, std::allocator<float> >, std::allocator<std::vector<float, std::allocator<float> > > >, unsigned long, boost::python::detail::final_vector_derived_policies<std::vector<std::vector<float, std::allocator<float> >, std::allocator<std::vector<float, std::allocator<float> > > >, false> > already registered; second conversion method ignored.\n",
      "  return f(*args, **kwds)\n",
      "/projects/academic/cyberwksp21/Software/Conda/Miniconda3/envs/libra/lib/python3.6/importlib/_bootstrap.py:219: RuntimeWarning: to-Python converter for std::vector<std::vector<double, std::allocator<double> >, std::allocator<std::vector<double, std::allocator<double> > > > already registered; second conversion method ignored.\n",
      "  return f(*args, **kwds)\n",
      "/projects/academic/cyberwksp21/Software/Conda/Miniconda3/envs/libra/lib/python3.6/importlib/_bootstrap.py:219: RuntimeWarning: to-Python converter for boost::python::detail::container_element<std::vector<std::vector<double, std::allocator<double> >, std::allocator<std::vector<double, std::allocator<double> > > >, unsigned long, boost::python::detail::final_vector_derived_policies<std::vector<std::vector<double, std::allocator<double> >, std::allocator<std::vector<double, std::allocator<double> > > >, false> > already registered; second conversion method ignored.\n",
      "  return f(*args, **kwds)\n",
      "/projects/academic/cyberwksp21/Software/Conda/Miniconda3/envs/libra/lib/python3.6/importlib/_bootstrap.py:219: RuntimeWarning: to-Python converter for std::vector<std::vector<std::complex<double>, std::allocator<std::complex<double> > >, std::allocator<std::vector<std::complex<double>, std::allocator<std::complex<double> > > > > already registered; second conversion method ignored.\n",
      "  return f(*args, **kwds)\n",
      "/projects/academic/cyberwksp21/Software/Conda/Miniconda3/envs/libra/lib/python3.6/importlib/_bootstrap.py:219: RuntimeWarning: to-Python converter for boost::python::detail::container_element<std::vector<std::vector<std::complex<double>, std::allocator<std::complex<double> > >, std::allocator<std::vector<std::complex<double>, std::allocator<std::complex<double> > > > >, unsigned long, boost::python::detail::final_vector_derived_policies<std::vector<std::vector<std::complex<double>, std::allocator<std::complex<double> > >, std::allocator<std::vector<std::complex<double>, std::allocator<std::complex<double> > > > >, false> > already registered; second conversion method ignored.\n",
      "  return f(*args, **kwds)\n"
     ]
    }
   ],
   "source": [
    "import os\n",
    "import sys\n",
    "import math\n",
    "if sys.platform==\"cygwin\":\n",
    "    from cyglibra_core import *\n",
    "elif sys.platform==\"linux\" or sys.platform==\"linux2\":\n",
    "    from liblibra_core import *\n",
    "from libra_py import data_outs\n"
   ]
  },
  {
   "cell_type": "markdown",
   "metadata": {},
   "source": [
    "Also, lets import matplotlib for plotting and define all the plotting parameters: sizes, colors, etc."
   ]
  },
  {
   "cell_type": "code",
   "execution_count": 2,
   "metadata": {},
   "outputs": [],
   "source": [
    "import matplotlib.pyplot as plt   # plots\n",
    "\n",
    "plt.rc('axes', titlesize=38)      # fontsize of the axes title\n",
    "plt.rc('axes', labelsize=38)      # fontsize of the x and y labels\n",
    "plt.rc('legend', fontsize=38)     # legend fontsize\n",
    "plt.rc('xtick', labelsize=38)    # fontsize of the tick labels\n",
    "plt.rc('ytick', labelsize=38)    # fontsize of the tick labels\n",
    "\n",
    "plt.rc('figure.subplot', left=0.2)\n",
    "plt.rc('figure.subplot', right=0.95)\n",
    "plt.rc('figure.subplot', bottom=0.13)\n",
    "plt.rc('figure.subplot', top=0.88)\n",
    "\n",
    "colors = {}\n",
    "\n",
    "colors.update({\"11\": \"#8b1a0e\"})  # red       \n",
    "colors.update({\"12\": \"#FF4500\"})  # orangered \n",
    "colors.update({\"13\": \"#B22222\"})  # firebrick \n",
    "colors.update({\"14\": \"#DC143C\"})  # crimson   \n",
    "\n",
    "colors.update({\"21\": \"#5e9c36\"})  # green\n",
    "colors.update({\"22\": \"#006400\"})  # darkgreen  \n",
    "colors.update({\"23\": \"#228B22\"})  # forestgreen\n",
    "colors.update({\"24\": \"#808000\"})  # olive      \n",
    "\n",
    "colors.update({\"31\": \"#8A2BE2\"})  # blueviolet\n",
    "colors.update({\"32\": \"#00008B\"})  # darkblue  \n",
    "\n",
    "colors.update({\"41\": \"#2F4F4F\"})  # darkslategray\n",
    "\n",
    "clrs_index = [\"11\", \"21\", \"31\", \"41\", \"12\", \"22\", \"32\", \"13\",\"23\", \"14\", \"24\"]"
   ]
  },
  {
   "cell_type": "markdown",
   "metadata": {},
   "source": [
    "We'll use these auxiliary functions later:"
   ]
  },
  {
   "cell_type": "code",
   "execution_count": 3,
   "metadata": {},
   "outputs": [],
   "source": [
    "class tmp:\n",
    "    pass\n",
    "\n",
    "def harmonic1D(q, params):\n",
    "    \"\"\"\n",
    "    1D Harmonic potential \n",
    "    \"\"\"\n",
    "  \n",
    "    x = q.get(0)\n",
    "    k = params[\"k\"]\n",
    "   \n",
    "    obj = tmp()\n",
    "    obj.ham_dia = CMATRIX(1,1)    \n",
    "    obj.ham_dia.set(0,0, 0.5*k*x**2)\n",
    "\n",
    "    return obj\n",
    "    \n",
    "\n",
    "def harmonic2D(q, params):\n",
    "    \"\"\"\n",
    "    2D Harmonic potential \n",
    "    \"\"\"\n",
    "  \n",
    "    x = q.get(0)\n",
    "    y = q.get(1)\n",
    "    kx = params[\"kx\"]\n",
    "    ky = params[\"ky\"]\n",
    "   \n",
    "    obj = tmp()\n",
    "    obj.ham_dia = CMATRIX(1,1)    \n",
    "    obj.ham_dia.set(0, 0, (0.5*kx*x**2 + 0.5*ky*y**2)*(1.0+0.0j) )\n",
    "\n",
    "    return obj\n",
    "    \n"
   ]
  },
  {
   "cell_type": "markdown",
   "metadata": {},
   "source": [
    "## 2. Mapping points on multidimensional grids \n",
    "<a name=\"mapping\"></a>[Back to TOC](#TOC)\n",
    "\n",
    "\n",
    "Imagine a 3D grid with:\n",
    " * 3 points in the 1-st dimension\n",
    " * 2 points in the 2-nd dimension  \n",
    " * 4 points in the 3-rd dimension\n",
    "\n",
    "So there are 3 x 2 x 4 = 24 points \n",
    " \n",
    "However, we can still store all of them in 1D array, which is more efficient way. However, to refer to the points, we need a function that does the mapping.\n",
    "\n",
    "This example demonstrates the functions:\n",
    "\n",
    "`vector<vector<int> > compute_mapping(vector<vector<int> >& inp, vector<int>& npts)`\n",
    "\n",
    "`int compute_imapping(vector<int>& inp, vector<int>& npts)`\n",
    "\n",
    "defined in:   dyn/wfcgrid/Grid_functions.h\n",
    "<a name=\"compute_mapping-1\"></a>"
   ]
  },
  {
   "cell_type": "code",
   "execution_count": 4,
   "metadata": {},
   "outputs": [
    {
     "name": "stdout",
     "output_type": "stream",
     "text": [
      "The number of points =  24\n",
      "The number of dimensions =  3\n"
     ]
    }
   ],
   "source": [
    "inp = intList2()\n",
    "npts = Py2Cpp_int([3,2,4])\n",
    "\n",
    "res = compute_mapping(inp, npts);\n",
    "\n",
    "print(\"The number of points = \", len(res) )\n",
    "print(\"The number of dimensions = \", len(res[0]) )\n"
   ]
  },
  {
   "cell_type": "markdown",
   "metadata": {},
   "source": [
    "And the inverse of that mapping\n",
    "<a name=\"compute_imapping-1\"></a>"
   ]
  },
  {
   "cell_type": "code",
   "execution_count": 5,
   "metadata": {},
   "outputs": [
    {
     "name": "stdout",
     "output_type": "stream",
     "text": [
      "point #  0 [0, 0, 0]\n",
      "index of that point in the global array = 0\n",
      "point #  1 [0, 0, 1]\n",
      "index of that point in the global array = 1\n",
      "point #  2 [0, 0, 2]\n",
      "index of that point in the global array = 2\n",
      "point #  3 [0, 0, 3]\n",
      "index of that point in the global array = 3\n",
      "point #  4 [0, 1, 0]\n",
      "index of that point in the global array = 4\n",
      "point #  5 [0, 1, 1]\n",
      "index of that point in the global array = 5\n",
      "point #  6 [0, 1, 2]\n",
      "index of that point in the global array = 6\n",
      "point #  7 [0, 1, 3]\n",
      "index of that point in the global array = 7\n",
      "point #  8 [1, 0, 0]\n",
      "index of that point in the global array = 8\n",
      "point #  9 [1, 0, 1]\n",
      "index of that point in the global array = 9\n",
      "point #  10 [1, 0, 2]\n",
      "index of that point in the global array = 10\n",
      "point #  11 [1, 0, 3]\n",
      "index of that point in the global array = 11\n",
      "point #  12 [1, 1, 0]\n",
      "index of that point in the global array = 12\n",
      "point #  13 [1, 1, 1]\n",
      "index of that point in the global array = 13\n",
      "point #  14 [1, 1, 2]\n",
      "index of that point in the global array = 14\n",
      "point #  15 [1, 1, 3]\n",
      "index of that point in the global array = 15\n",
      "point #  16 [2, 0, 0]\n",
      "index of that point in the global array = 16\n",
      "point #  17 [2, 0, 1]\n",
      "index of that point in the global array = 17\n",
      "point #  18 [2, 0, 2]\n",
      "index of that point in the global array = 18\n",
      "point #  19 [2, 0, 3]\n",
      "index of that point in the global array = 19\n",
      "point #  20 [2, 1, 0]\n",
      "index of that point in the global array = 20\n",
      "point #  21 [2, 1, 1]\n",
      "index of that point in the global array = 21\n",
      "point #  22 [2, 1, 2]\n",
      "index of that point in the global array = 22\n",
      "point #  23 [2, 1, 3]\n",
      "index of that point in the global array = 23\n"
     ]
    }
   ],
   "source": [
    "cnt = 0\n",
    "for i in res:\n",
    "    print(\"point # \", cnt, Cpp2Py(i) )\n",
    "    print(\"index of that point in the global array =\", compute_imapping(i, Py2Cpp_int([3,2,4])) )\n",
    "    cnt +=1"
   ]
  },
  {
   "cell_type": "markdown",
   "metadata": {},
   "source": [
    "## 3. Functions of the Wfcgrid2 class\n",
    "<a name=\"wfcgrid2\"></a>[Back to TOC](#TOC)\n",
    "\n",
    "This example demonstrates the functions of the class `Wfcgrid2`\n",
    "       \n",
    " defined in:   `dyn/wfcgrid2/Wfcgrid2.h`\n",
    "\n",
    "\n",
    "Here, we test simple Harmonic oscillator eigenfunctions and will \n",
    "compare the energies as computed by Libra to the analytic results\n",
    "\n",
    "### 3.1. Initialize the grid and do the mappings (internally):\n",
    "\n",
    "`Wfcgrid2(vector<double>& rmin_, vector<double>& rmax_, vector<double>& dr_, int nstates_)`\n",
    "<a name=\"Wfcgrid2-1\"></a>"
   ]
  },
  {
   "cell_type": "code",
   "execution_count": 6,
   "metadata": {},
   "outputs": [],
   "source": [
    "num_el_st = 1\n",
    "wfc = Wfcgrid2(Py2Cpp_double([-15.0]), Py2Cpp_double([15.0]),  Py2Cpp_double([0.01]), num_el_st)"
   ]
  },
  {
   "cell_type": "markdown",
   "metadata": {},
   "source": [
    "The key descriptors are stored in the `wfc` object:\n",
    "<a name=\"nstates-1\"></a> <a name=\"ndof-1\"></a> <a name=\"Npts-1\"></a> <a name=\"npts-1\"></a> \n",
    "<a name=\"rmin-1\"></a> <a name=\"rmax-1\"></a> <a name=\"dr-1\"></a> <a name=\"kmin-1\"></a> <a name=\"dk-1\"></a>"
   ]
  },
  {
   "cell_type": "code",
   "execution_count": 7,
   "metadata": {},
   "outputs": [
    {
     "name": "stdout",
     "output_type": "stream",
     "text": [
      "number of quantum states: 1\n",
      "number of nuclear degrees of freedom: 1\n",
      "the total number of grid points: 4096\n",
      "the number of grid points in each dimension: [4096]\n",
      "the lower boundary of the real-space grid in each dimension: [-15.0]\n",
      "the upper boundary of the real-space grid in each dimension: [15.0]\n",
      "the real-space grid-step in each dimension: [0.01]\n",
      "the lower boundary of the reciprocal-space grid in each dimension: [-50.0]\n",
      "the reciprocal-space grid-step in each dimension: [0.0244140625]\n"
     ]
    }
   ],
   "source": [
    "print(F\"number of quantum states: {wfc.nstates}\")\n",
    "print(F\"number of nuclear degrees of freedom: {wfc.ndof}\")\n",
    "print(F\"the total number of grid points: {wfc.Npts}\")\n",
    "print(F\"the number of grid points in each dimension: {Cpp2Py(wfc.npts)}\")\n",
    "print(F\"the lower boundary of the real-space grid in each dimension: {Cpp2Py(wfc.rmin)}\")\n",
    "print(F\"the upper boundary of the real-space grid in each dimension: {Cpp2Py(wfc.rmax)}\")\n",
    "print(F\"the real-space grid-step in each dimension: {Cpp2Py(wfc.dr)}\")\n",
    "print(F\"the lower boundary of the reciprocal-space grid in each dimension: {Cpp2Py(wfc.kmin)}\")\n",
    "print(F\"the reciprocal-space grid-step in each dimension: {Cpp2Py(wfc.dk)}\")"
   ]
  },
  {
   "cell_type": "markdown",
   "metadata": {},
   "source": [
    "### Exercise 1:\n",
    "\n",
    "What is the upper boundary of reciprocal space?"
   ]
  },
  {
   "cell_type": "markdown",
   "metadata": {},
   "source": [
    "Grid mapping : the wavefunctions are stored in a consecutive order.\n",
    "\n",
    "To convert the single integer (which is just an order of the point in a real or reciprocal space) from \n",
    "the indices of the point on the 1D grid in each dimensions, we use the mapping below:\n",
    "e.g. igmap[1] = [0, 1, 0, 0] means that the second (index 1) entry in the PSI array below corresponds to\n",
    "a grid point that is first (lower boundary) in dimensions 0, 2, and 3, but is second (index 1) in the \n",
    "dimension 1. Same for the reciprocal space\n",
    "\n",
    "<a name=\"gmap-1\"></a>"
   ]
  },
  {
   "cell_type": "code",
   "execution_count": 8,
   "metadata": {},
   "outputs": [
    {
     "name": "stdout",
     "output_type": "stream",
     "text": [
      "the point 0 corresponds to the grid indices = [0]\n",
      "the point 1 corresponds to the grid indices = [1]\n",
      "the point 2 corresponds to the grid indices = [2]\n",
      "the point 3 corresponds to the grid indices = [3]\n",
      "the point 4 corresponds to the grid indices = [4]\n",
      "the point 5 corresponds to the grid indices = [5]\n",
      "the point 6 corresponds to the grid indices = [6]\n",
      "the point 7 corresponds to the grid indices = [7]\n",
      "the point 8 corresponds to the grid indices = [8]\n",
      "the point 9 corresponds to the grid indices = [9]\n"
     ]
    }
   ],
   "source": [
    "for i in range(10):\n",
    "    print(F\"the point {i} corresponds to the grid indices = {Cpp2Py(wfc.gmap[i]) }\")"
   ]
  },
  {
   "cell_type": "markdown",
   "metadata": {},
   "source": [
    "Analogously, the inverse mapping of the indices of the point on the axes of all dimensions to the sequentian number:\n",
    "<a name=\"imap-1\"></a>"
   ]
  },
  {
   "cell_type": "code",
   "execution_count": 9,
   "metadata": {},
   "outputs": [
    {
     "name": "stdout",
     "output_type": "stream",
     "text": [
      "the point 0 corresponds to the grid indices = 0\n",
      "the point 1 corresponds to the grid indices = 1\n",
      "the point 2 corresponds to the grid indices = 2\n",
      "the point 3 corresponds to the grid indices = 3\n",
      "the point 4 corresponds to the grid indices = 4\n",
      "the point 5 corresponds to the grid indices = 5\n",
      "the point 6 corresponds to the grid indices = 6\n",
      "the point 7 corresponds to the grid indices = 7\n",
      "the point 8 corresponds to the grid indices = 8\n",
      "the point 9 corresponds to the grid indices = 9\n"
     ]
    }
   ],
   "source": [
    "for i in range(10):\n",
    "    print(F\"the point {i} corresponds to the grid indices = { wfc.imap( Py2Cpp_int([i]) )   }\")"
   ]
  },
  {
   "cell_type": "markdown",
   "metadata": {},
   "source": [
    "### 3.2. Let's run the above examples for a 2D case:\n",
    "\n",
    "<a name=\"Wfcgrid2-2\"></a> <a name=\"gmap-2\"></a> <a name=\"imap-2\"></a>"
   ]
  },
  {
   "cell_type": "code",
   "execution_count": 10,
   "metadata": {},
   "outputs": [
    {
     "name": "stdout",
     "output_type": "stream",
     "text": [
      "number of quantum states: 1\n",
      "number of nuclear degrees of freedom: 2\n",
      "the total number of grid points: 1024\n",
      "the number of grid points in each dimension: [32, 32]\n",
      "the lower boundary of the real-space grid in each dimension: [-15.0, -15.0]\n",
      "the upper boundary of the real-space grid in each dimension: [15.0, 15.0]\n",
      "the real-space grid-step in each dimension: [1.0, 1.0]\n",
      "the lower boundary of the reciprocal-space grid in each dimension: [-0.5, -0.5]\n",
      "the reciprocal-space grid-step in each dimension: [0.03125, 0.03125]\n",
      "the point 0 corresponds to the grid indices = [0, 0]\n",
      "the point 1 corresponds to the grid indices = [0, 1]\n",
      "the point 2 corresponds to the grid indices = [0, 2]\n",
      "the point 3 corresponds to the grid indices = [0, 3]\n",
      "the point 4 corresponds to the grid indices = [0, 4]\n",
      "the point 5 corresponds to the grid indices = [0, 5]\n",
      "the point 6 corresponds to the grid indices = [0, 6]\n",
      "the point 7 corresponds to the grid indices = [0, 7]\n",
      "the point 8 corresponds to the grid indices = [0, 8]\n",
      "the point 9 corresponds to the grid indices = [0, 9]\n",
      "the point 0 corresponds to the grid indices = 0\n",
      "the point 1 corresponds to the grid indices = 33\n",
      "the point 2 corresponds to the grid indices = 66\n",
      "the point 3 corresponds to the grid indices = 99\n",
      "the point 4 corresponds to the grid indices = 132\n",
      "the point 5 corresponds to the grid indices = 165\n",
      "the point 6 corresponds to the grid indices = 198\n",
      "the point 7 corresponds to the grid indices = 231\n",
      "the point 8 corresponds to the grid indices = 264\n",
      "the point 9 corresponds to the grid indices = 297\n"
     ]
    }
   ],
   "source": [
    "wfc2 = Wfcgrid2(Py2Cpp_double([-15.0, -15.0]), Py2Cpp_double([15.0, 15.0]),  Py2Cpp_double([1, 1]), num_el_st)\n",
    "\n",
    "\n",
    "print(F\"number of quantum states: {wfc2.nstates}\")\n",
    "print(F\"number of nuclear degrees of freedom: {wfc2.ndof}\")\n",
    "print(F\"the total number of grid points: {wfc2.Npts}\")\n",
    "print(F\"the number of grid points in each dimension: {Cpp2Py(wfc2.npts)}\")\n",
    "print(F\"the lower boundary of the real-space grid in each dimension: {Cpp2Py(wfc2.rmin)}\")\n",
    "print(F\"the upper boundary of the real-space grid in each dimension: {Cpp2Py(wfc2.rmax)}\")\n",
    "print(F\"the real-space grid-step in each dimension: {Cpp2Py(wfc2.dr)}\")\n",
    "print(F\"the lower boundary of the reciprocal-space grid in each dimension: {Cpp2Py(wfc2.kmin)}\")\n",
    "print(F\"the reciprocal-space grid-step in each dimension: {Cpp2Py(wfc2.dk)}\")\n",
    "\n",
    "for i in range(10):\n",
    "    print(F\"the point {i} corresponds to the grid indices = {Cpp2Py(wfc2.gmap[i]) }\")\n",
    "    \n",
    "for i in range(10):\n",
    "    print(F\"the point {i} corresponds to the grid indices = { wfc2.imap( Py2Cpp_int([i, i]) )   }\")    "
   ]
  },
  {
   "cell_type": "markdown",
   "metadata": {},
   "source": [
    "### 3.3. Add a wavefunction to the grid\n",
    "\n",
    "This can be done by sequentially adding either Gaussian wavepackets or the Harmonic osccillator eigenfunctions to the grid with the corresponding weights.\n",
    "\n",
    "Adding of such functions is done with for instance:\n",
    "\n",
    "`void add_wfc_HO(vector<double>& x0, vector<double>& px0, vector<double>& alpha, int init_state, vector<int>& nu, complex<double> weight, int rep)`\n",
    "\n",
    "Here,\n",
    "\n",
    "* `x0` - is the center of the added function\n",
    "* `p0` - it's initial momentum (if any)\n",
    "* `alpha` - the exponent parameters \n",
    "* `init_state` - specialization of the initial electronic state\n",
    "* `nu` - the selector of the HO eigenstate to be added\n",
    "* `weight` - the amplitude with which the added function enters the superpositions, doesn't have to lead to a normalized function, the norm is included when computing the properties\n",
    "* `rep` - representation\n",
    "\n",
    "The variables x0, p0, etc. should have the dimensionality comparable to that of the grid. \n",
    "\n",
    "For instance, in the example below we add the wavefunction (single HO eigenstate) to the 1D grid\n",
    "<a name=\"add_wfc_HO-1\"></a> <a name=\"norm-1\"></a>"
   ]
  },
  {
   "cell_type": "code",
   "execution_count": 11,
   "metadata": {},
   "outputs": [
    {
     "name": "stdout",
     "output_type": "stream",
     "text": [
      " norm of the diabatic wfc = 0.9999999999999986 and norm of the adiabatic wfc = 0.0\n"
     ]
    }
   ],
   "source": [
    "x0 = Py2Cpp_double([0.0])            \n",
    "p0 = Py2Cpp_double([0.0])            \n",
    "alphas = Py2Cpp_double([1.0])\n",
    "nu = Py2Cpp_int([0])\n",
    "el_st = 0\n",
    "rep = 0  \n",
    "\n",
    "weight = 1.0+0.0j\n",
    "wfc.add_wfc_HO(x0, p0, alphas, el_st, nu, weight, rep)\n",
    "\n",
    "print(F\" norm of the diabatic wfc = {wfc.norm(0)} and norm of the adiabatic wfc = {wfc.norm(1)}\")"
   ]
  },
  {
   "cell_type": "markdown",
   "metadata": {},
   "source": [
    "We can see that the wavefunction is pretty much normalized - this is becasue we have only added a single wavefunction which is already normalized.\n",
    "\n",
    "Also, note how the norm of the diabatic wavefunction is 1.0, but that of the adiabatic is zero - this is because we have added the wavefunction only in the diabatic representation (`rep = 0`) and haven't yet run any calculations to do any updates of the other (adiabatic) representation"
   ]
  },
  {
   "cell_type": "markdown",
   "metadata": {},
   "source": [
    "### Exercise 2\n",
    "<a name=\"add_wfc_Gau-1\"></a>\n",
    "Use the `add_wfc_Gau` function to add several Gaussians to the grid."
   ]
  },
  {
   "cell_type": "markdown",
   "metadata": {},
   "source": [
    "### Exercise 3\n",
    "\n",
    "Initialize the wavefunction as the superposition: $|0> - 0.5 |1> + 0.25i |2 >$\n",
    "\n",
    "Is the resulting wavefunction normalized?\n",
    "\n",
    "Use the `normalize()` method of the `Wfcgrid2` class to normalize it\n",
    "<a name=\"normalize-1\"></a>"
   ]
  },
  {
   "cell_type": "markdown",
   "metadata": {},
   "source": [
    "### 3.4. A more advanced example: adding an arbitrary wavefunctions \n",
    "\n",
    "using the `add_wfc_ARB` method\n",
    "\n",
    "All we need to do is to set up a Python function that would take `vector<double>` as the input for coordinates, a Python dictionary for parameters, and it would return a `CMATRIX(nstates, 1)` object containing energies of all states as the function of the multidimensional coordinate. \n",
    "\n",
    "Let's define the one:"
   ]
  },
  {
   "cell_type": "code",
   "execution_count": 12,
   "metadata": {},
   "outputs": [],
   "source": [
    "def my_2D_sin(q, params):\n",
    "    \"\"\"\n",
    "    2D sine potential \n",
    "    \"\"\"\n",
    "  \n",
    "    x = q.get(0,0)\n",
    "    y = q.get(1,0)\n",
    "    A = params[\"A\"]\n",
    "    alpha = params[\"alpha\"]\n",
    "    omega = params[\"omega\"]\n",
    "   \n",
    "    res = CMATRIX(1,1)    \n",
    "    res.set(0,0, 0.5* A * math.sin(omega*(x**2 + y**2)) * math.exp(-alpha*(x**2 + y**2)) )\n",
    "\n",
    "    return res\n"
   ]
  },
  {
   "cell_type": "markdown",
   "metadata": {},
   "source": [
    "Now, we can add the wavefunction to that grid using:\n",
    "\n",
    "`void add_wfc_ARB(bp::object py_funct, bp::object params, int rep)`\n",
    "<a name=\"add_wfc_ARB-1\"></a>"
   ]
  },
  {
   "cell_type": "code",
   "execution_count": 13,
   "metadata": {},
   "outputs": [
    {
     "name": "stdout",
     "output_type": "stream",
     "text": [
      " norm of the diabatic wfc = 0.11124683022492163 and norm of the adiabatic wfc = 0.0\n"
     ]
    }
   ],
   "source": [
    "rep = 0  \n",
    "wfc2.add_wfc_ARB(my_2D_sin, {\"A\":1, \"alpha\":1.0, \"omega\":1.0}, rep)\n",
    "\n",
    "print(F\" norm of the diabatic wfc = {wfc2.norm(0)} and norm of the adiabatic wfc = {wfc2.norm(1)}\")"
   ]
  },
  {
   "cell_type": "markdown",
   "metadata": {},
   "source": [
    "As we can see, this wavefunction is not normalized.\n",
    "\n",
    "We can normalize it using `normalize(int rep)` method with `rep = 0` since we are working with the diabatic representation\n",
    "<a name=\"normalize-2\"></a>"
   ]
  },
  {
   "cell_type": "code",
   "execution_count": 14,
   "metadata": {},
   "outputs": [
    {
     "name": "stdout",
     "output_type": "stream",
     "text": [
      " norm of the diabatic wfc = 0.9999999999999994 and norm of the adiabatic wfc = 0.0\n"
     ]
    }
   ],
   "source": [
    "wfc2.normalize(0)\n",
    "print(F\" norm of the diabatic wfc = {wfc2.norm(0)} and norm of the adiabatic wfc = {wfc2.norm(1)}\")"
   ]
  },
  {
   "cell_type": "markdown",
   "metadata": {},
   "source": [
    "### 3.5. Accessing wavefunction and the internal data\n",
    "\n",
    "Now that we have initialized the wavefunction, we can access the wavefunction \n",
    "<a name=\"PSI_dia-1\"></a> <a name=\"PSI_adi-1\"></a>"
   ]
  },
  {
   "cell_type": "code",
   "execution_count": 15,
   "metadata": {},
   "outputs": [
    {
     "name": "stdout",
     "output_type": "stream",
     "text": [
      "diabatic wfc = (1.4487332796885729e-22+0j) adiabatic wfc = 0j\n",
      "diabatic wfc = (1.6010178358670647e-22+0j) adiabatic wfc = 0j\n",
      "diabatic wfc = (1.7691329616726924e-22+0j) adiabatic wfc = 0j\n",
      "diabatic wfc = (1.954705561969595e-22+0j) adiabatic wfc = 0j\n",
      "diabatic wfc = (2.159527773482247e-22+0j) adiabatic wfc = 0j\n",
      "diabatic wfc = (2.3855735423596517e-22+0j) adiabatic wfc = 0j\n",
      "diabatic wfc = (2.6350168440629746e-22+0j) adiabatic wfc = 0j\n",
      "diabatic wfc = (2.91025170616495e-22+0j) adiabatic wfc = 0j\n",
      "diabatic wfc = (3.2139142101365356e-22+0j) adiabatic wfc = 0j\n",
      "diabatic wfc = (3.5489066651617274e-22+0j) adiabatic wfc = 0j\n"
     ]
    }
   ],
   "source": [
    "for i in range(10):\n",
    "    print(F\"diabatic wfc = {wfc.PSI_dia[500+i].get(0,0) } adiabatic wfc = {wfc.PSI_adi[500+i].get(0,0) }\")"
   ]
  },
  {
   "cell_type": "markdown",
   "metadata": {},
   "source": [
    "We can also see what the reciprocal of the wavefunctions are. \n",
    "<a name=\"reciPSI_dia-1\"></a> <a name=\"reciPSI_adi-1\"></a>"
   ]
  },
  {
   "cell_type": "code",
   "execution_count": 16,
   "metadata": {},
   "outputs": [
    {
     "name": "stdout",
     "output_type": "stream",
     "text": [
      "diabatic wfc = 0j adiabatic wfc = 0j\n",
      "diabatic wfc = 0j adiabatic wfc = 0j\n",
      "diabatic wfc = 0j adiabatic wfc = 0j\n",
      "diabatic wfc = 0j adiabatic wfc = 0j\n",
      "diabatic wfc = 0j adiabatic wfc = 0j\n",
      "diabatic wfc = 0j adiabatic wfc = 0j\n",
      "diabatic wfc = 0j adiabatic wfc = 0j\n",
      "diabatic wfc = 0j adiabatic wfc = 0j\n",
      "diabatic wfc = 0j adiabatic wfc = 0j\n",
      "diabatic wfc = 0j adiabatic wfc = 0j\n"
     ]
    }
   ],
   "source": [
    "for i in range(10):\n",
    "    print(F\"diabatic wfc = {wfc.reciPSI_dia[500+i].get(0,0) } adiabatic wfc = {wfc.reciPSI_adi[500+i].get(0,0) }\")"
   ]
  },
  {
   "cell_type": "markdown",
   "metadata": {},
   "source": [
    "### 3.6. Update the reciprocal of the initial wavefunction\n",
    "\n",
    "This is needed for computing some properties, and also as the initialization of the dynamics\n",
    "<a name=\"update_reciprocal-1\"></a>"
   ]
  },
  {
   "cell_type": "code",
   "execution_count": 17,
   "metadata": {},
   "outputs": [],
   "source": [
    "wfc.update_reciprocal(rep)"
   ]
  },
  {
   "cell_type": "markdown",
   "metadata": {},
   "source": [
    "Now, since we have computed the reciprocal of the wavefunction (by doing an FFT of the real-space wfc), we can access those numbers (still in the diabatic representation only)"
   ]
  },
  {
   "cell_type": "code",
   "execution_count": 18,
   "metadata": {},
   "outputs": [
    {
     "name": "stdout",
     "output_type": "stream",
     "text": [
      "diabatic wfc = (-7.938581813042437e-16-3.292442409596794e-16j) adiabatic wfc = 0j\n",
      "diabatic wfc = (-1.0534997694888374e-15-4.3324393460622627e-16j) adiabatic wfc = 0j\n",
      "diabatic wfc = (-1.344645905336897e-15-5.169367280259415e-16j) adiabatic wfc = 0j\n",
      "diabatic wfc = (-1.5875806328520155e-15-6.733472460693432e-16j) adiabatic wfc = 0j\n",
      "diabatic wfc = (-1.9543907628057097e-15-8.294333772218843e-16j) adiabatic wfc = 0j\n",
      "diabatic wfc = (-2.4186289504751935e-15-9.33707190095722e-16j) adiabatic wfc = 0j\n",
      "diabatic wfc = (-2.872689724086602e-15-1.1414549034631344e-15j) adiabatic wfc = 0j\n",
      "diabatic wfc = (-3.1856187839746186e-15-1.3084149947233198e-15j) adiabatic wfc = 0j\n",
      "diabatic wfc = (-3.578929217190932e-15-1.5015963563073512e-15j) adiabatic wfc = 0j\n",
      "diabatic wfc = (-3.923212091435534e-15-1.4885132888172904e-15j) adiabatic wfc = 0j\n"
     ]
    }
   ],
   "source": [
    "for i in range(10):\n",
    "    print(F\"diabatic wfc = {wfc.reciPSI_dia[500+i].get(0,0) } adiabatic wfc = {wfc.reciPSI_adi[500+i].get(0,0) }\")"
   ]
  },
  {
   "cell_type": "markdown",
   "metadata": {},
   "source": [
    "### 3.4. Compute the Hamiltonian on the grid\n",
    "\n",
    "The nice thing is - we can define any Hamiltonian function right in Python (this is done in [section 1]() ) and pass that function, together with the dictionary of the corresponding parameters to the `update_Hamiltonian` method.\n",
    "\n",
    "Here, we define the force constant of the potential to be consistent with the alpha of the initial Gaussian wavepacket and the mass of the particle, as is done in any Quantum chemistry textbooks.\n",
    "<a name=\"update_Hamiltonian-1\"></a> "
   ]
  },
  {
   "cell_type": "code",
   "execution_count": 19,
   "metadata": {},
   "outputs": [],
   "source": [
    "masses = Py2Cpp_double([2000.0])\n",
    "omega = alphas[0]/masses[0]\n",
    "k = masses[0] * omega**2\n",
    "\n",
    "wfc.update_Hamiltonian(harmonic1D, {\"k\": k}, rep)"
   ]
  },
  {
   "cell_type": "markdown",
   "metadata": {},
   "source": [
    "After this step, the internal storage will also contain the Hamitonians computed at the grid points:\n",
    "<a name=\"Hdia-1\"></a> "
   ]
  },
  {
   "cell_type": "code",
   "execution_count": 20,
   "metadata": {},
   "outputs": [
    {
     "name": "stdout",
     "output_type": "stream",
     "text": [
      "diabatic Hamiltonian (potential only) = (0.025+0j) \n",
      "diabatic Hamiltonian (potential only) = (0.024950025+0j) \n",
      "diabatic Hamiltonian (potential only) = (0.0249001+0j) \n",
      "diabatic Hamiltonian (potential only) = (0.024850224999999997+0j) \n",
      "diabatic Hamiltonian (potential only) = (0.024800400000000004+0j) \n",
      "diabatic Hamiltonian (potential only) = (0.024750624999999995+0j) \n",
      "diabatic Hamiltonian (potential only) = (0.024700899999999998+0j) \n",
      "diabatic Hamiltonian (potential only) = (0.024651225000000002+0j) \n",
      "diabatic Hamiltonian (potential only) = (0.0246016+0j) \n",
      "diabatic Hamiltonian (potential only) = (0.024552025+0j) \n"
     ]
    }
   ],
   "source": [
    "for i in range(10):\n",
    "    print(F\"diabatic Hamiltonian (potential only) = {wfc.Hdia[500+i].get(0,0) } \")"
   ]
  },
  {
   "cell_type": "markdown",
   "metadata": {},
   "source": [
    "### 3.5. Computing properties\n",
    "\n",
    "Now, when the Hamiltonian is evaluated on the grid, we can compute various properties.\n",
    "\n",
    "In this example, we use the wavefunction represented in the diabatic basis\n",
    "<a name=\"norm-2\"></a> <a name=\"e_kin-1\"></a> <a name=\"e_pot-1\"></a> <a name=\"e_tot-1\"></a> <a name=\"get_pow_p-1\"></a> "
   ]
  },
  {
   "cell_type": "code",
   "execution_count": 21,
   "metadata": {},
   "outputs": [
    {
     "name": "stdout",
     "output_type": "stream",
     "text": [
      "Norm =  0.9999999999999986\n",
      "Ekin =  0.00012499999999999567\n",
      "Expected kinetic energy =  0.000125\n",
      "Epot =  0.00012499999999999987\n",
      "Expected potential energy =  0.000125\n",
      "Etot =  0.00024999999999999556\n",
      "Expected total energy =  0.00025\n",
      "p2 =  0.49999999999998224\n",
      "p2/2*m =  0.00012499999999999556\n"
     ]
    }
   ],
   "source": [
    "rep = 0\n",
    "print( \"Norm = \", wfc.norm(rep) )\n",
    "print( \"Ekin = \", wfc.e_kin(masses, rep) )\n",
    "print( \"Expected kinetic energy = \", 0.5*alphas[0]/(2.0*masses[0]) )\n",
    "print( \"Epot = \", wfc.e_pot(rep) )\n",
    "print( \"Expected potential energy = \", (0.5*k/alphas[0])*(0.5 + nu[0]) )\n",
    "print( \"Etot = \", wfc.e_tot(masses, rep) )\n",
    "print( \"Expected total energy = \", omega*(0.5 + nu[0]) )\n",
    "\n",
    "p2 = wfc.get_pow_p(0, 2);\n",
    "print( \"p2 = \", p2.get(0).real )\n",
    "print( \"p2/2*m = \", p2.get(0).real/(2.0 * masses[0]) )"
   ]
  },
  {
   "cell_type": "markdown",
   "metadata": {},
   "source": [
    "We can also compute the populations of all states and resolve it by the spatial region too:\n",
    "\n",
    "<a name=\"get_pops-1\"></a> <a name=\"get_pops-2\"></a> "
   ]
  },
  {
   "cell_type": "code",
   "execution_count": 22,
   "metadata": {},
   "outputs": [
    {
     "name": "stdout",
     "output_type": "stream",
     "text": [
      " population of diabatic state 0 of wfc in the whole region  0.9999999999999986\n",
      " population of diabatic state 0 of wfc in the half of the original region  0.5028209479177388\n"
     ]
    }
   ],
   "source": [
    "p = wfc.get_pops(0).get(0,0)\n",
    "print(F\" population of diabatic state 0 of wfc in the whole region  {p}\")\n",
    "\n",
    "left, right = Py2Cpp_double([-15.0]), Py2Cpp_double([0.0])\n",
    "p = wfc.get_pops(0, left, right).get(0,0)\n",
    "print(F\" population of diabatic state 0 of wfc in the half of the original region  {p}\")\n"
   ]
  },
  {
   "cell_type": "markdown",
   "metadata": {},
   "source": [
    "### 3.6. Converting between diabatic and adiabatic representations\n",
    "\n",
    "The transformation matrix `wfc.U` is computed when we compute the real-space propagator `wfc.update_propagator_H` \n",
    "\n",
    "For the purposes of the adi-to-dia transformation, it doesn't matter what value for dt is used in that function.\n",
    "\n",
    "<a name=\"update_propagator_H-1\"></a> "
   ]
  },
  {
   "cell_type": "code",
   "execution_count": 23,
   "metadata": {},
   "outputs": [],
   "source": [
    "wfc.update_propagator_H(0.0)"
   ]
  },
  {
   "cell_type": "markdown",
   "metadata": {},
   "source": [
    "Now, we can access the transformation matrix - one for each grid point. \n",
    "\n",
    "Note, in this tutorial we deal with the 1 electronic state, so all the transformation matrices are just the identity ones\n",
    "<a name=\"U-1\"></a> "
   ]
  },
  {
   "cell_type": "code",
   "execution_count": 24,
   "metadata": {},
   "outputs": [
    {
     "name": "stdout",
     "output_type": "stream",
     "text": [
      "dia-to-adi transformation matrix at point 500\n",
      "\n",
      "(1+0j)  \n",
      "dia-to-adi transformation matrix at point 501\n",
      "\n",
      "(1+0j)  \n",
      "dia-to-adi transformation matrix at point 502\n",
      "\n",
      "(1+0j)  \n",
      "dia-to-adi transformation matrix at point 503\n",
      "\n",
      "(1+0j)  \n",
      "dia-to-adi transformation matrix at point 504\n",
      "\n",
      "(1+0j)  \n",
      "dia-to-adi transformation matrix at point 505\n",
      "\n",
      "(1+0j)  \n",
      "dia-to-adi transformation matrix at point 506\n",
      "\n",
      "(1+0j)  \n",
      "dia-to-adi transformation matrix at point 507\n",
      "\n",
      "(1+0j)  \n",
      "dia-to-adi transformation matrix at point 508\n",
      "\n",
      "(1+0j)  \n",
      "dia-to-adi transformation matrix at point 509\n",
      "\n",
      "(1+0j)  \n"
     ]
    }
   ],
   "source": [
    "for i in range(10):\n",
    "    print(F\"dia-to-adi transformation matrix at point {500+i}\\n\")\n",
    "    data_outs.print_matrix(wfc.U[500+i])"
   ]
  },
  {
   "cell_type": "markdown",
   "metadata": {},
   "source": [
    "Now, we can update the real-space adiabatic wavefunction and then its reciprocal for the adiabatic representation (`rep = 1`):\n",
    "\n",
    "<a name=\"update_adiabatic-1\"></a> <a name=\"update_reciprocal-1\"></a> "
   ]
  },
  {
   "cell_type": "code",
   "execution_count": 25,
   "metadata": {},
   "outputs": [],
   "source": [
    "wfc.update_adiabatic()\n",
    "wfc.update_reciprocal(1)"
   ]
  },
  {
   "cell_type": "markdown",
   "metadata": {},
   "source": [
    "And compute the properties but now in the adiabatic basis"
   ]
  },
  {
   "cell_type": "code",
   "execution_count": 26,
   "metadata": {},
   "outputs": [
    {
     "name": "stdout",
     "output_type": "stream",
     "text": [
      "diabatic wfc = (1.4487332796885729e-22+0j) adiabatic wfc = (1.4487332796885729e-22+0j)\n",
      "diabatic wfc = (1.6010178358670647e-22+0j) adiabatic wfc = (1.6010178358670647e-22+0j)\n",
      "diabatic wfc = (1.7691329616726924e-22+0j) adiabatic wfc = (1.7691329616726924e-22+0j)\n",
      "diabatic wfc = (1.954705561969595e-22+0j) adiabatic wfc = (1.954705561969595e-22+0j)\n",
      "diabatic wfc = (2.159527773482247e-22+0j) adiabatic wfc = (2.159527773482247e-22+0j)\n",
      "diabatic wfc = (2.3855735423596517e-22+0j) adiabatic wfc = (2.3855735423596517e-22+0j)\n",
      "diabatic wfc = (2.6350168440629746e-22+0j) adiabatic wfc = (2.6350168440629746e-22+0j)\n",
      "diabatic wfc = (2.91025170616495e-22+0j) adiabatic wfc = (2.91025170616495e-22+0j)\n",
      "diabatic wfc = (3.2139142101365356e-22+0j) adiabatic wfc = (3.2139142101365356e-22+0j)\n",
      "diabatic wfc = (3.5489066651617274e-22+0j) adiabatic wfc = (3.5489066651617274e-22+0j)\n"
     ]
    }
   ],
   "source": [
    "for i in range(10):\n",
    "    print(F\"diabatic wfc = {wfc.PSI_dia[500+i].get(0,0) } adiabatic wfc = {wfc.PSI_adi[500+i].get(0,0) }\")"
   ]
  },
  {
   "cell_type": "code",
   "execution_count": 26,
   "metadata": {},
   "outputs": [
    {
     "name": "stdout",
     "output_type": "stream",
     "text": [
      "diabatic wfc = (-7.938581813042437e-16-3.292442409596794e-16j) adiabatic wfc = (-7.938581813042437e-16-3.292442409596794e-16j)\n",
      "diabatic wfc = (-1.0534997694888374e-15-4.3324393460622627e-16j) adiabatic wfc = (-1.0534997694888374e-15-4.3324393460622627e-16j)\n",
      "diabatic wfc = (-1.344645905336897e-15-5.169367280259415e-16j) adiabatic wfc = (-1.344645905336897e-15-5.169367280259415e-16j)\n",
      "diabatic wfc = (-1.5875806328520155e-15-6.733472460693432e-16j) adiabatic wfc = (-1.5875806328520155e-15-6.733472460693432e-16j)\n",
      "diabatic wfc = (-1.9543907628057097e-15-8.294333772218843e-16j) adiabatic wfc = (-1.9543907628057097e-15-8.294333772218843e-16j)\n",
      "diabatic wfc = (-2.4186289504751935e-15-9.33707190095722e-16j) adiabatic wfc = (-2.4186289504751935e-15-9.33707190095722e-16j)\n",
      "diabatic wfc = (-2.872689724086602e-15-1.1414549034631344e-15j) adiabatic wfc = (-2.872689724086602e-15-1.1414549034631344e-15j)\n",
      "diabatic wfc = (-3.1856187839746186e-15-1.3084149947233198e-15j) adiabatic wfc = (-3.1856187839746186e-15-1.3084149947233198e-15j)\n",
      "diabatic wfc = (-3.578929217190932e-15-1.5015963563073512e-15j) adiabatic wfc = (-3.578929217190932e-15-1.5015963563073512e-15j)\n",
      "diabatic wfc = (-3.923212091435534e-15-1.4885132888172904e-15j) adiabatic wfc = (-3.923212091435534e-15-1.4885132888172904e-15j)\n"
     ]
    }
   ],
   "source": [
    "for i in range(10):\n",
    "    print(F\"diabatic wfc = {wfc.reciPSI_dia[500+i].get(0,0) } adiabatic wfc = {wfc.reciPSI_adi[500+i].get(0,0) }\")"
   ]
  },
  {
   "cell_type": "code",
   "execution_count": 27,
   "metadata": {},
   "outputs": [
    {
     "name": "stdout",
     "output_type": "stream",
     "text": [
      "Norm =  0.9999999999999986\n",
      "Ekin =  0.00012499999999999567\n",
      "Expected kinetic energy =  0.000125\n",
      "Epot =  0.00012499999999999987\n",
      "Expected potential energy =  0.000125\n",
      "Etot =  0.00024999999999999556\n",
      "Expected total energy =  0.00025\n",
      "p2 =  0.49999999999998224\n",
      "p2/2*m =  0.00012499999999999556\n"
     ]
    }
   ],
   "source": [
    "print( \"Norm = \", wfc.norm(1) )\n",
    "print( \"Ekin = \", wfc.e_kin(masses, 1) )\n",
    "print( \"Expected kinetic energy = \", 0.5*alphas[0]/(2.0*masses[0]) )\n",
    "print( \"Epot = \", wfc.e_pot(1) )\n",
    "print( \"Expected potential energy = \", (0.5*k/alphas[0])*(0.5 + nu[0]) )\n",
    "print( \"Etot = \", wfc.e_tot(masses, 1) )\n",
    "print( \"Expected total energy = \", omega*(0.5 + nu[0]) )\n",
    "\n",
    "p2 = wfc.get_pow_p(1, 2);\n",
    "print( \"p2 = \", p2.get(0).real )\n",
    "print( \"p2/2*m = \", p2.get(0).real/(2.0 * masses[0]) )"
   ]
  },
  {
   "cell_type": "code",
   "execution_count": 28,
   "metadata": {},
   "outputs": [
    {
     "name": "stdout",
     "output_type": "stream",
     "text": [
      " population of adiabatic state 0 of wfc in the whole region  0.9999999999999986\n",
      " population of adiabatic state 0 of wfc in the half of the original region  0.5028209479177388\n"
     ]
    }
   ],
   "source": [
    "p = wfc.get_pops(1).get(0,0)\n",
    "print(F\" population of adiabatic state 0 of wfc in the whole region  {p}\")\n",
    "\n",
    "left, right = Py2Cpp_double([-15.0]), Py2Cpp_double([0.0])\n",
    "p = wfc.get_pops(1, left, right).get(0,0)\n",
    "print(F\" population of adiabatic state 0 of wfc in the half of the original region  {p}\")\n"
   ]
  },
  {
   "cell_type": "markdown",
   "metadata": {},
   "source": [
    "## 4. Showcase: computing energies of the HO eigenstates\n",
    "<a name=\"ho_showcase\"></a>[Back to TOC](#TOC)\n",
    "<a name=\"energy-use-case\"></a>\n",
    "\n",
    "We, of course, know all the properties of the HO eigenstates analytically. Namely, the energies should be:\n",
    "\n",
    "\\\\[ E_n = \\hbar \\omega (n + \\frac{1}{2}) \\\\]\n",
    "\n",
    "Let's see if we can also get them numerically"
   ]
  },
  {
   "cell_type": "code",
   "execution_count": 29,
   "metadata": {
    "scrolled": true
   },
   "outputs": [
    {
     "name": "stdout",
     "output_type": "stream",
     "text": [
      "========== State 0 ==============\n",
      "Etot =  0.00024999999999999556\n",
      "Expected total energy =  0.00025\n",
      "========== State 1 ==============\n",
      "Etot =  0.000749999999999987\n",
      "Expected total energy =  0.00075\n",
      "========== State 2 ==============\n",
      "Etot =  0.00124999999999998\n",
      "Expected total energy =  0.00125\n",
      "========== State 3 ==============\n",
      "Etot =  0.0017499999999999684\n",
      "Expected total energy =  0.00175\n",
      "========== State 10 ==============\n",
      "Etot =  0.0052499999999999075\n",
      "Expected total energy =  0.00525\n",
      "========== State 20 ==============\n",
      "Etot =  0.01024999999999985\n",
      "Expected total energy =  0.01025\n"
     ]
    }
   ],
   "source": [
    "for n in [0, 1, 2, 3, 10, 20]:\n",
    "\n",
    "    wfc = Wfcgrid2(Py2Cpp_double([-15.0]), Py2Cpp_double([15.0]),  Py2Cpp_double([0.01]), num_el_st)\n",
    "    \n",
    "    nu = Py2Cpp_int([n]) \n",
    "    wfc.add_wfc_HO(x0, p0, alphas, el_st, nu, 1.0+0.0j, rep)\n",
    "\n",
    "    wfc.update_reciprocal(rep)\n",
    "    wfc.update_Hamiltonian(harmonic1D, {\"k\": k}, rep)\n",
    "\n",
    "    print( \"========== State %i ==============\" % (n) )\n",
    "    print( \"Etot = \", wfc.e_tot(masses, rep) )\n",
    "    print( \"Expected total energy = \", omega*(0.5 + nu[0]) )\n",
    "\n"
   ]
  },
  {
   "cell_type": "markdown",
   "metadata": {},
   "source": [
    "## 5. Dynamics: computed with SOFT method\n",
    "<a name=\"soft_dynamics\"></a>[Back to TOC](#TOC)\n",
    "<a name=\"tdse-solution\"></a>\n",
    "\n",
    "### 5.1. Initialization\n",
    "\n",
    "As usual, let's initialize the grid and populate it with some wavefunction\n",
    "\n",
    "In this case, we start with a superposition of 2 HO eigenstates, so the initial wavefunction is not stationary with respect ot the chosen potential (or we won't be able to see any dynamics)\n",
    "\n",
    "As in the axamples above, we update the reciprocal wavefunction and then the Hamiltonian\n",
    "\n",
    "<a name=\"add_wfc_HO-2\"></a> <a name=\"update_reciprocal-2\"> <a name=\"update_Hamiltonian-2\"></a>"
   ]
  },
  {
   "cell_type": "code",
   "execution_count": 30,
   "metadata": {},
   "outputs": [],
   "source": [
    "wfc = Wfcgrid2(Py2Cpp_double([-15.0]), Py2Cpp_double([15.0]),  Py2Cpp_double([0.01]), num_el_st)\n",
    "    \n",
    "wfc.add_wfc_HO(x0, p0, alphas, el_st, Py2Cpp_int([0]) , 1.0+0.0j, rep)\n",
    "wfc.add_wfc_HO(x0, p0, alphas, el_st, Py2Cpp_int([1]) , 1.0+0.0j, rep)\n",
    "\n",
    "wfc.update_reciprocal(rep)\n",
    "wfc.update_Hamiltonian(harmonic1D, {\"k\": k}, rep)"
   ]
  },
  {
   "cell_type": "markdown",
   "metadata": {},
   "source": [
    "### 5.2. Update the propagators \n",
    "\n",
    "To compute the quantum dynamics on the grid, all we need to do is first to compute the propagators - the matrices that advances the wavefunction in real and reciprocal spaces.\n",
    "\n",
    "The split-operator Fourier-transform (SOFT) method dates back to Kosloff & Kosloff and is basically the following:\n",
    "\n",
    "If the Hamiltonian is given by:\n",
    "\n",
    "\\\\[  H = K + V  \\\\]\n",
    "\n",
    "Then, the solution of the TD-SE:\n",
    "\n",
    "\\\\[  i \\hbar \\frac{\\partial \\psi}{\\partial t} = H \\psi \\\\]\n",
    "\n",
    "is given by:\n",
    "\n",
    "\\\\[ \\psi(t) = exp(-i \\frac{H t}{\\hbar} ) \\psi(0)  \\\\]\n",
    "\n",
    "Of course, in practice we compute the state advancement by only small time increment \\\\[ \\Delta t \\\\] as:\n",
    "\n",
    "\\\\[ \\psi(t + \\Delta t) = exp(-i \\frac{H \\Delta t}{\\hbar} ) \\psi(t)  \\\\]\n",
    "\n",
    "So it all boils down to the computing the propagator \n",
    "\n",
    "\\\\[ exp(-i \\frac{H \\Delta t}{\\hbar} ) \\\\]\n",
    "\n",
    "This is then done by the Trotter splitting technique:\n",
    "\n",
    "\\\\[ exp(-i \\frac{H \\Delta t}{\\hbar} ) \\approx exp(-i \\frac{V \\Delta t}{2 \\hbar} ) exp(-i \\frac{K \\Delta t}{\\hbar} ) exp(-i \\frac{V \\Delta t}{2 \\hbar} )  \\\\]\n",
    "\n",
    "\n",
    "In the end, we need to compute the operators $ exp(-i \\frac{V \\Delta t}{2 \\hbar} ) $ and \n",
    "$exp(-i \\frac{K \\Delta t}{\\hbar} )$\n",
    "\n",
    "This is done by:\n",
    "\n",
    "<a name=\"update_propagator_H-2\"></a> <a name=\"update_propagator_K-1\"></a>"
   ]
  },
  {
   "cell_type": "code",
   "execution_count": 31,
   "metadata": {
    "scrolled": true
   },
   "outputs": [],
   "source": [
    "dt = 10.0  \n",
    "wfc.update_propagator_H(0.5*dt)\n",
    "wfc.update_propagator_K(dt, masses)"
   ]
  },
  {
   "cell_type": "markdown",
   "metadata": {},
   "source": [
    "### 5.3. Compute the dynamics\n",
    "\n",
    "The propagators in real and reciprocal spaces are stored in the class object, so we can now simply apply them many times to our starting wavefunction:\n",
    "\n",
    "This is done with the `SOFT_propagate()` function.\n",
    "\n",
    "Note how we use the following functions to compute the corresponding properties:\n",
    "\n",
    "* `get_pow_q` - for \\<q\\>\n",
    "* `get_pow_p` - for \\<p\\>\n",
    "* `get_den_mat` - for $\\rho_{ij} = |i><j|$\n",
    "and so on\n",
    "\n",
    "\n",
    "By default, the dynamics is executed in the diabatic representation, so for us to access the adiabatic properties (e.g. populations of the adiabatic states), we convert the propagated wavefunctions to the adiabatic representation with\n",
    "\n",
    "* `update_adiabatic`\n",
    "\n",
    "<a name=\"get_pow_q-1\"></a> <a name=\"get_pow_p-2\"></a> <a name=\"get_den_mat-1\"></a> \n",
    "<a name=\"e_kin-2\"></a> <a name=\"e_pot-2\"></a> <a name=\"e_tot-2\"></a> <a name=\"SOFT_propagate-1\"> </a>"
   ]
  },
  {
   "cell_type": "code",
   "execution_count": 32,
   "metadata": {},
   "outputs": [
    {
     "name": "stdout",
     "output_type": "stream",
     "text": [
      "step=  0  Ekin=  0.00025000156250001165  Epot=  0.00025000000003912  Etot=  0.0005000015625391317  q=  0.7070979423518663  p=  -0.0017677669529488457  p0_dia=  1.0  p0_adi=  1.0\n",
      "step=  1  Ekin=  0.00025000156242188827  Epot=  0.00025000000015636153  Etot=  0.0005000015625782497  q=  0.7070714260686285  p=  -0.005303256664678722  p0_dia=  1.0  p0_adi=  1.0\n",
      "step=  2  Ekin=  0.0002500015622656477  Epot=  0.0002500000003517117  Etot=  0.0005000015626173594  q=  0.7070272329997399  p=  -0.008838613794993148  p0_dia=  1.0  p0_adi=  1.0\n",
      "step=  3  Ekin=  0.00025000156203130715  Epot=  0.0002500000006251523  Etot=  0.0005000015626564594  q=  0.7069653642500252  p=  -0.012373749959962675  p0_dia=  1.0  p0_adi=  1.0\n",
      "step=  4  Ekin=  0.00025000156171888855  Epot=  0.00025000000097665496  Etot=  0.0005000015626955435  q=  0.7068858213662036  p=  -0.01590857678118353  p0_dia=  1.0  p0_adi=  1.0\n",
      "step=  5  Ekin=  0.0002500015613284251  Epot=  0.0002500000014061854  Etot=  0.0005000015627346106  q=  0.7067886063368511  p=  -0.01944300588798536  p0_dia=  1.0  p0_adi=  1.0\n",
      "step=  6  Ekin=  0.0002500015608599548  Epot=  0.00025000000191370005  Etot=  0.0005000015627736549  q=  0.7066737215923383  p=  -0.02297694891964037  p0_dia=  1.0  p0_adi=  1.0\n",
      "step=  7  Ekin=  0.00025000156031352357  Epot=  0.00025000000249914776  Etot=  0.0005000015628126714  q=  0.7065411700047862  p=  -0.02651031752757296  p0_dia=  1.0  p0_adi=  1.0\n",
      "step=  8  Ekin=  0.00025000155968918787  Epot=  0.00025000000316247165  Etot=  0.0005000015628516595  q=  0.7063909548879852  p=  -0.030043023377567632  p0_dia=  1.0  p0_adi=  1.0\n",
      "step=  9  Ekin=  0.0002500015589870089  Epot=  0.00025000000390360433  Etot=  0.0005000015628906132  q=  0.7062230799973127  p=  -0.03357497815197839  p0_dia=  1.0  p0_adi=  1.0\n",
      "step=  10  Ekin=  0.0002500015582070569  Epot=  0.00025000000472247106  Etot=  0.000500001562929528  q=  0.7060375495296392  p=  -0.03710609355193575  p0_dia=  1.0  p0_adi=  1.0\n",
      "step=  11  Ekin=  0.0002500015573494101  Epot=  0.0002500000056189901  Etot=  0.0005000015629684001  q=  0.705834368123228  p=  -0.040636281299554614  p0_dia=  1.0  p0_adi=  1.0\n",
      "step=  12  Ekin=  0.0002500015564141549  Epot=  0.00025000000659307375  Etot=  0.0005000015630072286  q=  0.7056135408576153  p=  -0.04416545314014116  p0_dia=  1.0  p0_adi=  1.0\n",
      "step=  13  Ekin=  0.0002500015554013841  Epot=  0.00025000000764462203  Etot=  0.0005000015630460061  q=  0.7053750732534821  p=  -0.04769352084440014  p0_dia=  1.0  p0_adi=  1.0\n",
      "step=  14  Ekin=  0.000250001554311199  Epot=  0.0002500000087735311  Etot=  0.0005000015630847301  q=  0.7051189712725154  p=  -0.05122039621063817  p0_dia=  1.0  p0_adi=  1.0\n",
      "step=  15  Ekin=  0.00025000155314370897  Epot=  0.000250000009979688  Etot=  0.000500001563123397  q=  0.7048452413172687  p=  -0.05474599106697135  p0_dia=  1.0  p0_adi=  1.0\n",
      "step=  16  Ekin=  0.00025000155189903057  Epot=  0.00025000001126297195  Etot=  0.0005000015631620025  q=  0.704553890230989  p=  -0.05827021727352828  p0_dia=  1.0  p0_adi=  1.0\n",
      "step=  17  Ekin=  0.00025000155057728815  Epot=  0.00025000001262325504  Etot=  0.0005000015632005432  q=  0.7042449252974535  p=  -0.061792986724653824  p0_dia=  1.0  p0_adi=  1.0\n",
      "step=  18  Ekin=  0.0002500015491786138  Epot=  0.0002500000140603999  Etot=  0.0005000015632390137  q=  0.7039183542407861  p=  -0.06531421135111176  p0_dia=  1.0  p0_adi=  1.0\n",
      "step=  19  Ekin=  0.00025000154770314794  Epot=  0.0002500000155742644  Etot=  0.0005000015632774123  q=  0.7035741852252627  p=  -0.0688338031222861  p0_dia=  1.0  p0_adi=  1.0\n",
      "step=  20  Ekin=  0.000250001546151037  Epot=  0.00025000001716469583  Etot=  0.0005000015633157328  q=  0.703212426855109  p=  -0.072351674048383  p0_dia=  1.0  p0_adi=  1.0\n",
      "step=  21  Ekin=  0.00025000154452243807  Epot=  0.00025000001883153687  Etot=  0.0005000015633539749  q=  0.7028330881742846  p=  -0.0758677361826292  p0_dia=  1.0  p0_adi=  1.0\n",
      "step=  22  Ekin=  0.00025000154281751237  Epot=  0.0002500000205746193  Etot=  0.0005000015633921317  q=  0.7024361786662567  p=  -0.07938190162347127  p0_dia=  1.0  p0_adi=  1.0\n",
      "step=  23  Ekin=  0.0002500015410364309  Epot=  0.00025000002239376946  Etot=  0.0005000015634302004  q=  0.702021708253762  p=  -0.08289408251677306  p0_dia=  1.0  p0_adi=  1.0\n",
      "step=  24  Ekin=  0.00025000153917937234  Epot=  0.0002500000242888055  Etot=  0.0005000015634681779  q=  0.7015896872985622  p=  -0.08640419105801246  p0_dia=  1.0  p0_adi=  1.0\n",
      "step=  25  Ekin=  0.00025000153724652127  Epot=  0.00025000002625953757  Etot=  0.0005000015635060588  q=  0.7011401266011813  p=  -0.08991213949447603  p0_dia=  1.0  p0_adi=  1.0\n",
      "step=  26  Ekin=  0.00025000153523807193  Epot=  0.0002500000283057693  Etot=  0.0005000015635438413  q=  0.700673037400633  p=  -0.09341784012745238  p0_dia=  1.0  p0_adi=  1.0\n",
      "step=  27  Ekin=  0.00025000153315422435  Epot=  0.0002500000304272944  Etot=  0.0005000015635815188  q=  0.70018843137415  p=  -0.09692120531442594  p0_dia=  1.0  p0_adi=  1.0\n",
      "step=  28  Ekin=  0.00025000153099518805  Epot=  0.0002500000326239025  Etot=  0.0005000015636190906  q=  0.6996863206368836  p=  -0.10042214747126764  p0_dia=  1.0  p0_adi=  1.0\n",
      "step=  29  Ekin=  0.0002500015287611773  Epot=  0.0002500000348953724  Etot=  0.0005000015636565497  q=  0.6991667177416017  p=  -0.10392057907442231  p0_dia=  1.0  p0_adi=  1.0\n",
      "step=  30  Ekin=  0.0002500015264524168  Epot=  0.0002500000372414787  Etot=  0.0005000015636938955  q=  0.698629635678378  p=  -0.10741641266310081  p0_dia=  1.0  p0_adi=  1.0\n",
      "step=  31  Ekin=  0.0002500015240691374  Epot=  0.00025000003966198643  Etot=  0.0005000015637311238  q=  0.6980750878742608  p=  -0.11090956084146308  p0_dia=  1.0  p0_adi=  1.0\n",
      "step=  32  Ekin=  0.0002500015216115774  Epot=  0.0002500000421566523  Etot=  0.0005000015637682297  q=  0.697503088192947  p=  -0.11439993628080534  p0_dia=  1.0  p0_adi=  1.0\n",
      "step=  33  Ekin=  0.0002500015190799814  Epot=  0.0002500000447252272  Etot=  0.0005000015638052086  q=  0.6969136509344295  p=  -0.11788745172174027  p0_dia=  1.0  p0_adi=  1.0\n",
      "step=  34  Ekin=  0.00025000151647460404  Epot=  0.0002500000473674556  Etot=  0.0005000015638420597  q=  0.6963067908346414  p=  -0.1213720199763831  p0_dia=  1.0  p0_adi=  1.0\n",
      "step=  35  Ekin=  0.00025000151379570495  Epot=  0.00025000005008307165  Etot=  0.0005000015638787766  q=  0.6956825230650773  p=  -0.12485355393052677  p0_dia=  1.0  p0_adi=  1.0\n",
      "step=  36  Ekin=  0.00025000151104355233  Epot=  0.00025000005287180465  Etot=  0.000500001563915357  q=  0.6950408632324391  p=  -0.12833196654582263  p0_dia=  1.0  p0_adi=  1.0\n",
      "step=  37  Ekin=  0.0002500015082184216  Epot=  0.00025000005573337555  Etot=  0.0005000015639517971  q=  0.694381827378222  p=  -0.13180717086195562  p0_dia=  1.0  p0_adi=  1.0\n",
      "step=  38  Ekin=  0.00025000150532059507  Epot=  0.0002500000586674984  Etot=  0.0005000015639880934  q=  0.6937054319783195  p=  -0.13527907999881725  p0_dia=  1.0  p0_adi=  1.0\n",
      "step=  39  Ekin=  0.00025000150235036255  Epot=  0.00025000006167388025  Etot=  0.0005000015640242428  q=  0.6930116939426177  p=  -0.13874760715867948  p0_dia=  1.0  p0_adi=  1.0\n",
      "step=  40  Ekin=  0.0002500014993080207  Epot=  0.000250000064752219  Etot=  0.0005000015640602396  q=  0.692300630614569  p=  -0.1422126656283631  p0_dia=  1.0  p0_adi=  1.0\n",
      "step=  41  Ekin=  0.0002500014961938745  Epot=  0.0002500000679022077  Etot=  0.0005000015640960822  q=  0.6915722597707545  p=  -0.1456741687814068  p0_dia=  1.0  p0_adi=  1.0\n",
      "step=  42  Ekin=  0.0002500014930082346  Epot=  0.0002500000711235313  Etot=  0.000500001564131766  q=  0.6908265996204463  p=  -0.14913203008023115  p0_dia=  1.0  p0_adi=  1.0\n",
      "step=  43  Ekin=  0.00025000148975142  Epot=  0.0002500000744158676  Etot=  0.0005000015641672877  q=  0.6900636688051474  p=  -0.15258616307830386  p0_dia=  1.0  p0_adi=  1.0\n",
      "step=  44  Ekin=  0.00025000148642375633  Epot=  0.0002500000777788876  Etot=  0.0005000015642026439  q=  0.6892834863981302  p=  -0.1560364814223001  p0_dia=  1.0  p0_adi=  1.0\n",
      "step=  45  Ekin=  0.0002500014830255765  Epot=  0.00025000008121225497  Etot=  0.0005000015642378315  q=  0.6884860719039512  p=  -0.15948289885426167  p0_dia=  1.0  p0_adi=  1.0\n",
      "step=  46  Ekin=  0.00025000147955722013  Epot=  0.00025000008471562645  Etot=  0.0005000015642728466  q=  0.6876714452579759  p=  -0.16292532921375202  p0_dia=  1.0  p0_adi=  1.0\n",
      "step=  47  Ekin=  0.0002500014760190342  Epot=  0.00025000008828865124  Etot=  0.0005000015643076855  q=  0.6868396268258726  p=  -0.16636368644001276  p0_dia=  1.0  p0_adi=  1.0\n"
     ]
    },
    {
     "name": "stdout",
     "output_type": "stream",
     "text": [
      "step=  48  Ekin=  0.00025000147241137187  Epot=  0.0002500000919309719  Etot=  0.0005000015643423438  q=  0.6859906374030943  p=  -0.16979788457411277  p0_dia=  1.0  p0_adi=  1.0\n",
      "step=  49  Ekin=  0.0002500014687345952  Epot=  0.0002500000956422249  Etot=  0.0005000015643768202  q=  0.6851244982143825  p=  -0.17322783776109935  p0_dia=  1.0  p0_adi=  1.0\n",
      "step=  50  Ekin=  0.00025000146498907043  Epot=  0.00025000009942203945  Etot=  0.0005000015644111099  q=  0.6842412309132168  p=  -0.17665346025214185  p0_dia=  1.0  p0_adi=  1.0\n",
      "step=  51  Ekin=  0.000250001461175173  Epot=  0.0002500001032700364  Etot=  0.0005000015644452095  q=  0.6833408575812768  p=  -0.1800746664066788  p0_dia=  1.0  p0_adi=  1.0\n",
      "step=  52  Ekin=  0.0002500014572932841  Epot=  0.00025000010718583075  Etot=  0.0005000015644791148  q=  0.682423400727899  p=  -0.1834913706945561  p0_dia=  1.0  p0_adi=  1.0\n",
      "step=  53  Ekin=  0.000250001453343792  Epot=  0.00025000011116903286  Etot=  0.0005000015645128249  q=  0.6814888832895026  p=  -0.18690348769816623  p0_dia=  1.0  p0_adi=  1.0\n",
      "step=  54  Ekin=  0.0002500014493270912  Epot=  0.0002500001152192419  Etot=  0.0005000015645463331  q=  0.6805373286290222  p=  -0.19031093211458444  p0_dia=  1.0  p0_adi=  1.0\n",
      "step=  55  Ekin=  0.000250001445243584  Epot=  0.00025000011933605553  Etot=  0.0005000015645796395  q=  0.6795687605353289  p=  -0.19371361875770043  p0_dia=  1.0  p0_adi=  1.0\n",
      "step=  56  Ekin=  0.00025000144109367875  Epot=  0.0002500001235190604  Etot=  0.0005000015646127391  q=  0.678583203222624  p=  -0.1971114625603483  p0_dia=  1.0  p0_adi=  1.0\n",
      "step=  57  Ekin=  0.00025000143687779004  Epot=  0.0002500001277678386  Etot=  0.0005000015646456286  q=  0.6775806813298355  p=  -0.20050437857643233  p0_dia=  1.0  p0_adi=  1.0\n",
      "step=  58  Ekin=  0.00025000143259633974  Epot=  0.00025000013208196495  Etot=  0.0005000015646783047  q=  0.6765612199200178  p=  -0.2038922819830528  p0_dia=  1.0  p0_adi=  1.0\n",
      "step=  59  Ekin=  0.0002500014282497554  Epot=  0.0002500001364610079  Etot=  0.0005000015647107633  q=  0.6755248444796987  p=  -0.20727508808262377  p0_dia=  1.0  p0_adi=  1.0\n",
      "step=  60  Ekin=  0.0002500014238384723  Epot=  0.0002500001409045305  Etot=  0.0005000015647430028  q=  0.6744715809182718  p=  -0.2106527123049932  p0_dia=  1.0  p0_adi=  1.0\n",
      "step=  61  Ekin=  0.0002500014193629318  Epot=  0.0002500001454120878  Etot=  0.0005000015647750196  q=  0.6734014555673187  p=  -0.21402507020955597  p0_dia=  1.0  p0_adi=  1.0\n",
      "step=  62  Ekin=  0.0002500014148235805  Epot=  0.00025000014998322897  Etot=  0.0005000015648068095  q=  0.6723144951799791  p=  -0.21739207748736367  p0_dia=  1.0  p0_adi=  1.0\n",
      "step=  63  Ekin=  0.00025000141022087335  Epot=  0.0002500001546174969  Etot=  0.0005000015648383702  q=  0.6712107269302606  p=  -0.22075364996323485  p0_dia=  1.0  p0_adi=  1.0\n",
      "step=  64  Ekin=  0.00025000140555526994  Epot=  0.00025000015931442884  Etot=  0.0005000015648696988  q=  0.670090178412367  p=  -0.22410970359785734  p0_dia=  1.0  p0_adi=  1.0\n",
      "step=  65  Ekin=  0.0002500014008272372  Epot=  0.0002500001640735539  Etot=  0.0005000015649007911  q=  0.6689528776400121  p=  -0.22746015448989054  p0_dia=  1.0  p0_adi=  1.0\n",
      "step=  66  Ekin=  0.00025000139603724707  Epot=  0.0002500001688943965  Etot=  0.0005000015649316436  q=  0.667798853045718  p=  -0.23080491887806115  p0_dia=  1.0  p0_adi=  1.0\n",
      "step=  67  Ekin=  0.0002500013911857801  Epot=  0.0002500001737764756  Etot=  0.0005000015649622557  q=  0.6666281334801012  p=  -0.2341439131432616  p0_dia=  1.0  p0_adi=  1.0\n",
      "step=  68  Ekin=  0.00025000138627332015  Epot=  0.0002500001787193018  Etot=  0.0005000015649926219  q=  0.6654407482111446  p=  -0.23747705381063333  p0_dia=  1.0  p0_adi=  1.0\n",
      "step=  69  Ekin=  0.0002500013813003591  Epot=  0.0002500001837223818  Etot=  0.000500001565022741  q=  0.6642367269234847  p=  -0.24080425755166038  p0_dia=  1.0  p0_adi=  1.0\n",
      "step=  70  Ekin=  0.00025000137626739427  Epot=  0.0002500001887852144  Etot=  0.0005000015650526087  q=  0.6630160997176509  p=  -0.2441254411862493  p0_dia=  1.0  p0_adi=  1.0\n",
      "step=  71  Ekin=  0.00025000137117492887  Epot=  0.00025000019390729485  Etot=  0.0005000015650822238  q=  0.6617788971093252  p=  -0.2474405216848098  p0_dia=  1.0  p0_adi=  1.0\n",
      "step=  72  Ekin=  0.0002500013660234711  Epot=  0.0002500001990881081  Etot=  0.0005000015651115792  q=  0.6605251500285699  p=  -0.2507494161703268  p0_dia=  1.0  p0_adi=  1.0\n",
      "step=  73  Ekin=  0.0002500013608135378  Epot=  0.0002500002043271382  Etot=  0.000500001565140676  q=  0.6592548898190673  p=  -0.25405204192044145  p0_dia=  1.0  p0_adi=  1.0\n",
      "step=  74  Ekin=  0.00025000135554564877  Epot=  0.0002500002096238612  Etot=  0.00050000156516951  q=  0.6579681482373172  p=  -0.2573483163695082  p0_dia=  1.0  p0_adi=  1.0\n",
      "step=  75  Ekin=  0.00025000135022033165  Epot=  0.0002500002149777469  Etot=  0.0005000015651980786  q=  0.6566649574518626  p=  -0.26063815711066657  p0_dia=  1.0  p0_adi=  1.0\n",
      "step=  76  Ekin=  0.00025000134483811826  Epot=  0.0002500002203882602  Etot=  0.0005000015652263784  q=  0.6553453500424714  p=  -0.26392148189789766  p0_dia=  1.0  p0_adi=  1.0\n",
      "step=  77  Ekin=  0.00025000133939954744  Epot=  0.00025000022585486026  Etot=  0.0005000015652544077  q=  0.6540093589993302  p=  -0.2671982086480819  p0_dia=  1.0  p0_adi=  1.0\n",
      "step=  78  Ekin=  0.0002500013339051623  Epot=  0.0002500002313769995  Etot=  0.0005000015652821617  q=  0.6526570177222142  p=  -0.2704682554430505  p0_dia=  1.0  p0_adi=  1.0\n",
      "step=  79  Ekin=  0.00025000132835551256  Epot=  0.0002500002369541266  Etot=  0.0005000015653096392  q=  0.6512883600196538  p=  -0.273731540531633  p0_dia=  1.0  p0_adi=  1.0\n",
      "step=  80  Ekin=  0.00025000132275115384  Epot=  0.0002500002425856835  Etot=  0.0005000015653368374  q=  0.6499034201080951  p=  -0.2769879823317033  p0_dia=  1.0  p0_adi=  1.0\n",
      "step=  81  Ekin=  0.0002500013170926455  Epot=  0.00025000024827110675  Etot=  0.0005000015653637523  q=  0.6485022326110319  p=  -0.2802374994322152  p0_dia=  1.0  p0_adi=  1.0\n",
      "step=  82  Ekin=  0.00025000131138055455  Epot=  0.0002500002540098285  Etot=  0.0005000015653903831  q=  0.6470848325581564  p=  -0.2834800105952428  p0_dia=  1.0  p0_adi=  1.0\n",
      "step=  83  Ekin=  0.0002500013056154511  Epot=  0.00025000025980127463  Etot=  0.0005000015654167257  q=  0.6456512553844662  p=  -0.2867154347580055  p0_dia=  1.0  p0_adi=  1.0\n",
      "step=  84  Ekin=  0.0002500012997979125  Epot=  0.0002500002656448666  Etot=  0.0005000015654427791  q=  0.6442015369293911  p=  -0.2899436910348999  p0_dia=  1.0  p0_adi=  1.0\n",
      "step=  85  Ekin=  0.00025000129392851994  Epot=  0.00025000027154001845  Etot=  0.0005000015654685384  q=  0.6427357134358939  p=  -0.2931646987195193  p0_dia=  1.0  p0_adi=  1.0\n",
      "step=  86  Ekin=  0.00025000128800786015  Epot=  0.00025000027748614144  Etot=  0.0005000015654940016  q=  0.6412538215495602  p=  -0.2963783772866702  p0_dia=  1.0  p0_adi=  1.0\n",
      "step=  87  Ekin=  0.00025000128203652675  Epot=  0.0002500002834826423  Etot=  0.0005000015655191691  q=  0.6397558983176914  p=  -0.29958464639439125  p0_dia=  1.0  p0_adi=  1.0\n",
      "step=  88  Ekin=  0.00025000127601511465  Epot=  0.000250000289528919  Etot=  0.0005000015655440336  q=  0.6382419811883605  p=  -0.30278342588595164  p0_dia=  1.0  p0_adi=  1.0\n",
      "step=  89  Ekin=  0.0002500012699442274  Epot=  0.00025000029562436836  Etot=  0.0005000015655685958  q=  0.6367121080095008  p=  -0.3059746357918657  p0_dia=  1.0  p0_adi=  1.0\n",
      "step=  90  Ekin=  0.00025000126382447173  Epot=  0.0002500003017683803  Etot=  0.000500001565592852  q=  0.6351663170279429  p=  -0.3091581963318858  p0_dia=  1.0  p0_adi=  1.0\n",
      "step=  91  Ekin=  0.0002500012576564598  Epot=  0.0002500003079603412  Etot=  0.0005000015656168009  q=  0.6336046468884596  p=  -0.31233402791699794  p0_dia=  1.0  p0_adi=  1.0\n",
      "step=  92  Ekin=  0.0002500012514408083  Epot=  0.00025000031419963176  Etot=  0.00050000156564044  q=  0.6320271366328033  p=  -0.31550205115141305  p0_dia=  1.0  p0_adi=  1.0\n",
      "step=  93  Ekin=  0.00025000124517813845  Epot=  0.0002500003204856272  Etot=  0.0005000015656637656  q=  0.6304338256987313  p=  -0.3186621868345495  p0_dia=  1.0  p0_adi=  1.0\n",
      "step=  94  Ekin=  0.0002500012388690771  Epot=  0.00025000032681769964  Etot=  0.0005000015656867767  q=  0.6288247539190174  p=  -0.32181435596301594  p0_dia=  1.0  p0_adi=  1.0\n",
      "step=  95  Ekin=  0.0002500012325142549  Epot=  0.00025000033319521546  Etot=  0.0005000015657094703  q=  0.6271999615204569  p=  -0.32495847973258396  p0_dia=  1.0  p0_adi=  1.0\n",
      "step=  96  Ekin=  0.0002500012261143066  Epot=  0.00025000033961753717  Etot=  0.0005000015657318438  q=  0.6255594891228545  p=  -0.32809447954015813  p0_dia=  1.0  p0_adi=  1.0\n",
      "step=  97  Ekin=  0.0002500012196698732  Epot=  0.00025000034608402223  Etot=  0.0005000015657538955  q=  0.6239033777380277  p=  -0.3312222769857453  p0_dia=  1.0  p0_adi=  1.0\n"
     ]
    },
    {
     "name": "stdout",
     "output_type": "stream",
     "text": [
      "step=  98  Ekin=  0.0002500012131815992  Epot=  0.00025000035259402495  Etot=  0.0005000015657756242  q=  0.622231668768758  p=  -0.3343417938744082  p0_dia=  1.0  p0_adi=  1.0\n",
      "step=  99  Ekin=  0.0002500012066501333  Epot=  0.00025000035914689317  Etot=  0.0005000015657970264  q=  0.6205444040077698  p=  -0.33745295221822547  p0_dia=  1.0  p0_adi=  1.0\n"
     ]
    }
   ],
   "source": [
    "nsteps = 100\n",
    "for step in range(nsteps):\n",
    "    wfc.SOFT_propagate()\n",
    "    q = wfc.get_pow_q(0, 1).get(0).real\n",
    "    p = wfc.get_pow_p(0, 1).get(0).real\n",
    "    \n",
    "    # Diabatic is the rep used for propagation, so we need to \n",
    "    # convert wfcs into adiabatic one\n",
    "    wfc.update_adiabatic()\n",
    "\n",
    "    Ddia = wfc.get_den_mat(0)  # diabatic density matrix\n",
    "    Dadi = wfc.get_den_mat(1)  # adiabatic density matrix\n",
    "\n",
    "    p0_dia = Ddia.get(0,0).real\n",
    "    p0_adi = Dadi.get(0,0).real\n",
    "    print(\"step= \", step, \" Ekin= \", wfc.e_kin(masses, rep), \n",
    "          \" Epot= \", wfc.e_pot(rep), \" Etot= \", wfc.e_tot(masses, rep), \n",
    "          \" q= \", q, \" p= \", p, \" p0_dia= \", p0_dia, \" p0_adi= \", p0_adi )"
   ]
  },
  {
   "cell_type": "markdown",
   "metadata": {},
   "source": [
    "### Exercise 4\n",
    "\n",
    "Write the scripts to visualize various quantities computed by the dynamics"
   ]
  },
  {
   "cell_type": "markdown",
   "metadata": {},
   "source": [
    "### Exercise 5\n",
    "\n",
    "Compute the population in a certain region of space and observe how it evolves during the dynamics"
   ]
  },
  {
   "cell_type": "markdown",
   "metadata": {},
   "source": [
    "### Exercise 6\n",
    "\n",
    "Compute the dynamics of the 2D wavepacked we set up in the above examples."
   ]
  },
  {
   "cell_type": "markdown",
   "metadata": {},
   "source": [
    "### Exercise 7\n",
    "\n",
    "Explore the behavior of the dynamics (e.g. conservation of energy, etc.) as you vary the initial conditions (e.g. the parameters of the initial wavefunction), the integration parameters (e.g. dt), and the grid properties (grid spacing and the boundaries)"
   ]
  },
  {
   "cell_type": "code",
   "execution_count": null,
   "metadata": {},
   "outputs": [],
   "source": []
  }
 ],
 "metadata": {
  "kernelspec": {
   "display_name": "Python 3",
   "language": "python",
   "name": "python3"
  },
  "language_info": {
   "codemirror_mode": {
    "name": "ipython",
    "version": 3
   },
   "file_extension": ".py",
   "mimetype": "text/x-python",
   "name": "python",
   "nbconvert_exporter": "python",
   "pygments_lexer": "ipython3",
   "version": "3.6.13"
  }
 },
 "nbformat": 4,
 "nbformat_minor": 4
}
