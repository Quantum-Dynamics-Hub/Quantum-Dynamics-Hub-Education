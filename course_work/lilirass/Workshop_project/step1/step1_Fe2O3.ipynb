{
 "cells": [
  {
   "cell_type": "markdown",
   "metadata": {},
   "source": [
    "# Molecular Dynamics Calculations with Quantum Espresso\n",
    "\n",
    "When computing nonadiabatic molecular dynamics (NAMD) within the neglect-of-back-reaction approximation (NBRA), one first precomputes a molecular dynamics trajectory.\n",
    "\n",
    "In this tutorial, we will learn how to compute a molecular dynamics trajectory using the Quantum Espresso software package. Specifically, we use the plane-wave sub-program of the Quantum Espresso package. \n",
    "\n",
    "Our example system will be a single Hematite unit cell (anatase). The dynamics will be computed at the Gamma point, with a plane wave energy cut off of 100 Ry and a charge density cut off of 500 Ry. As such parameters are not converged to any particular property of interest, we warn users that such parameters are chosen only for their extreme computational efficiency, and are most likely too crude to be considered quantitative.\n",
    "\n",
    "We will be computing just 100 fs of dynamics. That is, 100 steps with a time-step of 1 fs"
   ]
  },
  {
   "cell_type": "markdown",
   "metadata": {},
   "source": [
    "## Loading the Quantum Espresso Module\n",
    "\n",
    "In order to use Quantum Espresso, we must first load the module. To do so using the UB CCR, please execute the following command. To do so from the Jupyter Notebook, we must use the \"!\" mark before the command"
   ]
  },
  {
   "cell_type": "code",
   "execution_count": 1,
   "metadata": {},
   "outputs": [
    {
     "name": "stdout",
     "output_type": "stream",
     "text": [
      "The Intel compilers are in your path. This is adequate for compiling and\n",
      "running most codes. Source\n",
      "/util/academic/intel/17.0/compilers_and_libraries_2017/linux/bin/compilervars.sh\n",
      "for more features. \n",
      " Intel-MPI is in your path. This is adequate for compiling and running most\n",
      "codes. Source the\n",
      "/util/academic/intel/17.0/compilers_and_libraries_2017/linux/mpi/intel64/bin/mpivars.sh\n",
      "file for more features. \n",
      " The MKL Libraries are in your library path. This is adequate for compiling and\n",
      "running most codes. Source $MKL/bin/mklvars.sh\" for more features. \n"
     ]
    }
   ],
   "source": [
    "!module load espresso/6.2.1"
   ]
  },
  {
   "cell_type": "markdown",
   "metadata": {},
   "source": [
    "## Making the Quantum Espresso Input File\n",
    "\n",
    "Below, will be making the Quantum Espresso input file. Given that our platform is a Jupyter Notebook, we will make the entire input file a single string, and subsequently write this string to our input file. Below, i detail the most important paramters of the input file. For a more complete description, please see the quantum espresso [pw.x input description](https://www.quantum-espresso.org/Doc/INPUT_PW.html). The pseudopotentials used herein can be found by visitin the quantum espresso [pseudopotential table](https://www.quantum-espresso.org/pseudopotentials).\n",
    "\n",
    "&CONTROL\n",
    "* `calculation` - 'md', indicates the calculation is a molecular dynamics calculations\n",
    "* `nstep` - how many timesteps to take in the simulation. Each step is of size dt\n",
    "* `dt` - size of each simulation step. The step size is in Rydberg atomic units\n",
    "* `pseudo_dir` - location of the pseudo-potential files\n",
    "\n",
    "&SYSTEM\n",
    "* `nat` - total number of atoms in our system \n",
    "* `ntype` - how many different types of atoms we have \n",
    "* `nspin` - 1 - spin-restricted, 2 - spin-unrestricted, 4 - spin-non-colinear\n",
    "* `ecutwfc` - value for the plane wave kinetic energy cutoff\n",
    "* `ecutrho` - value for the charge density cutoff\n",
    "* `occupations` - how the electrons will be occupying the electron states. 'smearing' - occupations will be smeared over the electornic states\n",
    "* `smearing` - the type of smearing to be applied on the electronic state occupations. 'gaussian' apply the smearing in a manner consistent with a gaussian distribution centered on the highest occupied state\n",
    "* `degauss` - parameter related to how the smearing on the electronic state occupations is applied. Higher degauss means more smearing. Analogous to the gaussian uncertainty.\n",
    "* `nosym` - Specify nosym=.true. to avoid generation of additional k-points in low symmetry cases.\n",
    " \n",
    "&ELECTRONS\n",
    "* `electron_maxstep` - max number of SCF cycles to reach convergence\n",
    "* `conv_thr` - SCF convergence threshold\n",
    "\n",
    "&IONS\n",
    "* `ion_dynamics` - algorithm for molecular dynamics, (default) use Verlet algorithm to integrate Newton's equation \n",
    "* `ion_temperature` - Thermostat to be used for NVT dynamics\n",
    "* `tempw` - temperature of the thermostat, Starting temperature (Kelvin) in MD runs\n",
    "* `nraise` - frequency of the thermostat\n",
    "\n",
    "ATOMIC_SPECIES\n",
    "\n",
    "The formal here is: 'Element Name' 'atomic mass' 'name of pseudo-potential file'  \n",
    "\n",
    "K_POINTS\n",
    "\n",
    "Define the K-point mesh for integration of the Brillouin zone. 'Gamma' selects the Gamma point (center) Another option is to define a mesh. Ex) 2 2 2 0 0 0\n",
    "\n",
    "CELL_PARAMETERS \n",
    "\n",
    "Defines the cell paramters for the system \n",
    "\n",
    "x1, y1, z1\n",
    "\n",
    "x2, y2, z2\n",
    "\n",
    "x3, y3, x3\n",
    "\n",
    "ATOMIC_POSITIONS\n",
    "\n",
    "Defines the atomic position for the system \n",
    "\n",
    "Atom label, x,y,z"
   ]
  },
  {
   "cell_type": "code",
   "execution_count": null,
   "metadata": {},
   "outputs": [],
   "source": [
    "QE_input_file = \\\n",
    "\"\"\"\n",
    "&CONTROL\n",
    "  calculation   = 'md',\n",
    "  nstep         = 100,\n",
    "  dt            = 20.67055, \n",
    "  pseudo_dir    = '/projects/academic/cyberwksp21/Students/lilirass/libra/Tutorials_Libra/6_dynamics/2_nbra_workflows/2_step1_qe/Fe2O3',\n",
    "  outdir        = './',\n",
    "  prefix        = 'x0',\n",
    "  disk_io       = 'low',\n",
    "/\n",
    "\n",
    "&SYSTEM\n",
    "  ibrav       = 0,\n",
    "  nat         = 16,\n",
    "  ntyp        = 2,\n",
    "  nspin       = 1,\n",
    "  ecutwfc     = 100,\n",
    "  ecutrho     = 500,\n",
    "  occupations = 'smearing',\n",
    "  smearing    = 'gaussian',\n",
    "  degauss     = 0.01,\n",
    "  nosym       = true,\n",
    "/\n",
    "\n",
    "&ELECTRONS\n",
    "  electron_maxstep = 300,\n",
    "  conv_thr         = 1.D-6,\n",
    "  mixing_beta      = 0.30,\n",
    "/\n",
    "\n",
    "&IONS\n",
    "  ion_dynamics      = 'verlet',\n",
    "  ion_temperature   = 'andersen',\n",
    "  tempw             = 300,\n",
    "  nraise            = 10,\n",
    "  pot_extrapolation = 'second-order',\n",
    "  wfc_extrapolation = 'second-order',\n",
    "/\n",
    "\n",
    "ATOMIC_SPECIES\n",
    "Fe 55.847  Fe.pbe-spn-rrkjus_psl.0.2.1.UPF\n",
    "O  16.000  O.pbe-n-rrkjus_psl.1.0.0.UPF\n",
    "\n",
    "K_POINTS gamma\n",
    "\n",
    "\n",
    "CELL_PARAMETERS  angstrom\n",
    "         5.43000   0.00000   0.00000\n",
    "         3.09275   4.46316   0.00000\n",
    "         3.09275   1.61960   4.15893\n",
    "\n",
    "ATOMIC_POSITIONS angstrom\n",
    "Fe   1.21963   0.63869   0.43669\n",
    " O   3.77522   3.15992   0.00000\n",
    "Fe   4.58812   2.40269   1.64278\n",
    "Fe  10.39587   5.44407   3.72224\n",
    "Fe   7.02737   3.68007   2.51615\n",
    " O   3.09275   2.44992   2.94452\n",
    " O   4.74752   0.47292   1.21441\n",
    " O   6.49022   1.73814   2.07947\n",
    " O   5.12527   3.51430   3.29387\n",
    " O   5.80775   3.87170   0.86506\n",
    " O   4.74752   1.30324   0.00000\n",
    " O   3.09275   3.63284   1.21441\n",
    " O   3.77522   1.14668   2.94452\n",
    " O   5.12527   4.34462   2.07947\n",
    " O   6.49022   2.56846   0.86506\n",
    " O   5.80775   2.21106   3.29387\n",
    "\n",
    "\"\"\""
   ]
  },
  {
   "cell_type": "markdown",
   "metadata": {},
   "source": [
    "## Write the Quantum Espresso Input File\n",
    "\n",
    "Here, we simply write the Quantum Espresso Input File"
   ]
  },
  {
   "cell_type": "code",
   "execution_count": 3,
   "metadata": {},
   "outputs": [],
   "source": [
    "#print (QE_input_file)\n",
    "f = open(\"x0.md.in\",\"w\")\n",
    "f.write(QE_input_file)\n",
    "f.close()"
   ]
  },
  {
   "cell_type": "markdown",
   "metadata": {},
   "source": [
    "## Execute the Quantum Espresso Input File\n",
    "\n",
    "Our output file will be \"x0.md.out\". Execution of the following cell may take 1-2 minutes."
   ]
  },
  {
   "cell_type": "code",
   "execution_count": 4,
   "metadata": {},
   "outputs": [],
   "source": [
    "!/util/academic/espresso/6.2.1/bin/pw.x < x0.md.in > x0.md.out"
   ]
  },
  {
   "cell_type": "markdown",
   "metadata": {},
   "source": [
    "## Clean Up the Unneeded Output Files"
   ]
  },
  {
   "cell_type": "code",
   "execution_count": 5,
   "metadata": {},
   "outputs": [
    {
     "name": "stdout",
     "output_type": "stream",
     "text": [
      "sh: clean.sh: No such file or directory\r\n"
     ]
    }
   ],
   "source": [
    "!sh clean.sh"
   ]
  },
  {
   "cell_type": "code",
   "execution_count": null,
   "metadata": {},
   "outputs": [],
   "source": []
  }
 ],
 "metadata": {
  "kernelspec": {
   "display_name": "Python 3.6 (libra-latest)",
   "language": "python",
   "name": "libra-plus"
  },
  "language_info": {
   "codemirror_mode": {
    "name": "ipython",
    "version": 3
   },
   "file_extension": ".py",
   "mimetype": "text/x-python",
   "name": "python",
   "nbconvert_exporter": "python",
   "pygments_lexer": "ipython3",
   "version": "3.6.13"
  }
 },
 "nbformat": 4,
 "nbformat_minor": 2
}
